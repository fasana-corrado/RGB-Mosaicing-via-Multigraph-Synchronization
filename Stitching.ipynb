{
 "cells": [
  {
   "cell_type": "code",
   "execution_count": 6,
   "id": "3bdcbe3d-b76d-4ccd-87a1-0d457591f5c9",
   "metadata": {},
   "outputs": [],
   "source": [
    "import cv2 as cv\n",
    "import os\n",
    "import numpy as np\n",
    "import matplotlib.pyplot as plt"
   ]
  },
  {
   "cell_type": "code",
   "execution_count": 7,
   "id": "46930ff9-5fc1-4471-9506-af446615c7a2",
   "metadata": {},
   "outputs": [],
   "source": [
    "#directories\n",
    "dataset_dir = 'dataset'\n",
    "output_dir =\"output\"\n",
    "g_matrix_filename = \"G.npy\""
   ]
  },
  {
   "cell_type": "code",
   "execution_count": 8,
   "id": "508d4814-87f4-463a-9f6d-12e925bb3075",
   "metadata": {},
   "outputs": [],
   "source": [
    "#store the computed images on disk\n",
    "save_output = False"
   ]
  },
  {
   "cell_type": "code",
   "execution_count": 9,
   "id": "48fd8634-a1a7-4fc5-a2ee-b345f45b9d2a",
   "metadata": {},
   "outputs": [],
   "source": [
    "def load_images_from_folder(folder):\n",
    "    images = []\n",
    "    for filename in os.listdir(folder):\n",
    "        img = cv.imread(os.path.join(folder,filename))\n",
    "        if img is not None:\n",
    "            images.append(img)\n",
    "    return images"
   ]
  },
  {
   "cell_type": "code",
   "execution_count": 10,
   "id": "0d476f7a-1676-4cb2-85f9-23747d8b15b1",
   "metadata": {},
   "outputs": [],
   "source": [
    "imgs = load_images_from_folder(dataset_dir)\n",
    "n = len(imgs)"
   ]
  },
  {
   "cell_type": "code",
   "execution_count": 11,
   "id": "58594788-3fba-4bd9-8e2e-0bdeb23d056e",
   "metadata": {},
   "outputs": [],
   "source": [
    "G = np.load(os.path.join(output_dir,g_matrix_filename))"
   ]
  },
  {
   "cell_type": "code",
   "execution_count": 12,
   "id": "dd92546a-db5c-42e2-86ba-b2908b3a1953",
   "metadata": {},
   "outputs": [
    {
     "name": "stdout",
     "output_type": "stream",
     "text": [
      "[[-5. -0. -0.]\n",
      " [-0. -5. -0.]\n",
      " [-0. -0. -5.]]\n"
     ]
    }
   ],
   "source": [
    "i=0\n",
    "j=0\n",
    "print(G[3*i:3*(i+1),3*j:3*(j+1)])"
   ]
  },
  {
   "cell_type": "code",
   "execution_count": 13,
   "id": "a9c91548-e80e-479f-98a0-1a31244151b9",
   "metadata": {},
   "outputs": [],
   "source": [
    " u,d,v = cv.SVDecomp(G)"
   ]
  },
  {
   "cell_type": "code",
   "execution_count": 16,
   "id": "7ecbb798-1e1a-4865-9999-8f8b6676be5e",
   "metadata": {},
   "outputs": [
    {
     "name": "stdout",
     "output_type": "stream",
     "text": [
      "(60, 60) (60, 1) (60, 60) (60, 60)\n"
     ]
    }
   ],
   "source": [
    "print(G.shape, u.shape, d.shape, v.shape)"
   ]
  },
  {
   "cell_type": "code",
   "execution_count": 22,
   "id": "89930000-1bd3-4a33-971b-d30b1538a954",
   "metadata": {},
   "outputs": [
    {
     "name": "stdout",
     "output_type": "stream",
     "text": [
      "(60, 60)\n",
      "[[ 3.99910136e-02 -5.19761672e-01  5.93248895e-02 ... -1.99141801e-05\n",
      "  -7.36100261e-05 -2.95066218e-05]\n",
      " [ 5.03690002e-04 -3.15857784e-02  4.04692724e-03 ...  8.50428695e-05\n",
      "   5.86778121e-05 -2.39881707e-04]\n",
      " [-2.70897445e-04 -8.90252280e-05  7.31833614e-06 ...  2.24820080e-01\n",
      "  -4.95233080e-02  2.69350027e-01]\n",
      " ...\n",
      " [-2.08028260e-02 -5.15701227e-01  5.95958543e-02 ... -2.47752846e-05\n",
      "  -7.21341145e-05 -2.87290643e-05]\n",
      " [-7.85527329e-04 -4.12941636e-02  5.20846492e-03 ...  8.47649555e-05\n",
      "   5.83799310e-05 -2.39688845e-04]\n",
      " [-2.65566613e-04 -3.90669329e-05  6.99280981e-07 ...  2.25530421e-01\n",
      "  -6.93268761e-02  2.63651112e-01]]\n"
     ]
    },
    {
     "name": "stderr",
     "output_type": "stream",
     "text": [
      "<ipython-input-22-91563ae161f3>:1: RuntimeWarning: invalid value encountered in sqrt\n",
      "  cosa=u*np.sqrt(d)\n"
     ]
    }
   ],
   "source": [
    "cosa=u*np.sqrt(d)\n",
    "print(cosa.shape)\n",
    "print(d)\n"
   ]
  },
  {
   "cell_type": "code",
   "execution_count": null,
   "id": "e0f0f3cc-af5a-4d75-920e-142c6349b648",
   "metadata": {},
   "outputs": [],
   "source": []
  }
 ],
 "metadata": {
  "kernelspec": {
   "display_name": "Python 3",
   "language": "python",
   "name": "python3"
  },
  "language_info": {
   "codemirror_mode": {
    "name": "ipython",
    "version": 3
   },
   "file_extension": ".py",
   "mimetype": "text/x-python",
   "name": "python",
   "nbconvert_exporter": "python",
   "pygments_lexer": "ipython3",
   "version": "3.8.8"
  }
 },
 "nbformat": 4,
 "nbformat_minor": 5
}
