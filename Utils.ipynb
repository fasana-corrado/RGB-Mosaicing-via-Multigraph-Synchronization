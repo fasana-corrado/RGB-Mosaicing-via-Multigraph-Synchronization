{
 "cells": [
  {
   "cell_type": "code",
   "execution_count": null,
   "id": "affa5303-d0aa-4b2e-9531-54748c4dec15",
   "metadata": {},
   "outputs": [],
   "source": [
    "import os\n",
    "import cv2 as cv\n",
    "import networkx as nx\n",
    "import matplotlib.pyplot as plt\n",
    "from matplotlib.pyplot import figure\n",
    "import numpy as np"
   ]
  },
  {
   "cell_type": "code",
   "execution_count": null,
   "id": "b7b9d1a8-97f9-4e58-8f98-26aaa7310ed8",
   "metadata": {},
   "outputs": [],
   "source": [
    "#This function loads images from a specific folder\n",
    "def load_images_from_folder(folder):\n",
    "    images = []\n",
    "    for filename in os.listdir(folder):\n",
    "        img = cv.imread(os.path.join(folder,filename))\n",
    "        img = cv.cvtColor(img, cv.COLOR_BGR2RGB)\n",
    "        if img is not None:\n",
    "            images.append(img)\n",
    "    return images"
   ]
  },
  {
   "cell_type": "code",
   "execution_count": null,
   "id": "80336620-7fd8-488f-a35a-20d75caf6138",
   "metadata": {},
   "outputs": [],
   "source": [
    "def build_graph(imgs, adj_matrix, weight_matrix):\n",
    "    G=nx.Graph()\n",
    "    n=len(imgs)\n",
    "    for i in range(0,n):\n",
    "        G.add_node(i,image = imgs[i])\n",
    "    for i in range(n): \n",
    "         for j in range(n): \n",
    "            if adj_matrix[i,j] == 1:\n",
    "                G.add_edge(i,j, weight=max(weight_matrix[i,j],weight_matrix[j,i])) \n",
    "    return G"
   ]
  },
  {
   "cell_type": "code",
   "execution_count": null,
   "id": "cfa21445-6a73-4f5a-881b-26d01479200c",
   "metadata": {},
   "outputs": [],
   "source": [
    "def advanced_print_graph(imgs, G, save_images = True, graph_dir = \"output\", graph_name = \"graph\"):\n",
    "    \n",
    "    pos=nx.circular_layout(G)\n",
    "    fig=plt.figure(figsize=(15,15))\n",
    "    ax=plt.subplot(111)\n",
    "    ax.set_aspect('equal')\n",
    "    nx.draw(G,pos,ax=ax, width = 3, node_size=900,with_labels = True, \n",
    "            edgecolors='red', node_color='lightgray', connectionstyle='arc3, rad = 0.1')\n",
    "    \n",
    "    labels = nx.get_edge_attributes(G,'weight')\n",
    "    nx.draw_networkx_edge_labels(G,pos,edge_labels=labels)\n",
    "    plt.xlim(-1.5,1.5)\n",
    "    plt.ylim(-1.5,1.5)\n",
    "    trans=ax.transData.transform\n",
    "    trans2=fig.transFigure.inverted().transform\n",
    "    piesize=0.08 # this is the image size\n",
    "    p2=piesize/0.9 #this is the image center\n",
    "    for g in G:\n",
    "        xx,yy=trans(pos[g]) # figure coordinates\n",
    "        xa,ya=trans2((xx,yy)) # axes coordinates\n",
    "        a = plt.axes([xa-p2,ya-p2, piesize, piesize])\n",
    "        a.set_aspect('equal')\n",
    "        a.imshow(G.nodes[g]['image'])\n",
    "        a.axis('off')\n",
    "    ax.axis('off')\n",
    "    if save_images:\n",
    "        plt.savefig(os.path.join(graph_dir,f'{graph_name}.png'))\n",
    "    return G"
   ]
  },
  {
   "cell_type": "code",
   "execution_count": null,
   "id": "1bf7078e-2ee4-4611-8050-550b2887efcb",
   "metadata": {},
   "outputs": [],
   "source": [
    "def build_and_print_multi_graph(adj_matrix, save_images = True, graph_dir = \"output\", graph_name = \"graph\"):\n",
    "    graph = nx.from_numpy_matrix(adj_matrix, parallel_edges=True, create_using=nx.MultiDiGraph)\n",
    "    pos=nx.circular_layout(graph)\n",
    "    fig = plt.figure(figsize=(10,10))\n",
    "    nx.draw(graph, pos=pos, with_labels=True, connectionstyle='arc3, rad = 0.1')\n",
    "    plt.show()\n",
    "    if save_images:\n",
    "        fig.savefig(os.path.join(graph_dir,f'{graph_name}.png'))\n",
    "    return graph"
   ]
  },
  {
   "cell_type": "code",
   "execution_count": null,
   "id": "d0103c8f-f3dc-45ad-98d8-f6f2edc716ed",
   "metadata": {},
   "outputs": [],
   "source": [
    "def print_graph(graph, save_images = True, graph_dir = \"output\", graph_name = \"graph\"):\n",
    "    pos=nx.spring_layout(graph)\n",
    "    fig=plt.figure(figsize=(10,10))\n",
    "    ax=plt.subplot(111)\n",
    "    ax.set_aspect('equal')\n",
    "    nx.draw(graph,pos,ax=ax, width = 3, node_size=900,with_labels = True, edgecolors='red', node_color='lightgray')\n",
    "    plt.show()\n",
    "    if save_images:\n",
    "        fig.savefig(os.path.join(graph_dir,f'{graph_name}.png'))"
   ]
  },
  {
   "cell_type": "code",
   "execution_count": null,
   "id": "2cfc146f-1cb7-4346-a369-ba4073c4d085",
   "metadata": {},
   "outputs": [],
   "source": [
    "def get_homographies_from_states(U, idx_ref=0):\n",
    "    #Compute the homography of each image w.r.t. the reference one\n",
    "    H = [np.dot(U[idx_ref],np.linalg.inv(U[i])) for i in range(len(U))]\n",
    "    return H"
   ]
  },
  {
   "cell_type": "code",
   "execution_count": null,
   "id": "56a5428f-cf98-43d9-959a-97faad0205a2",
   "metadata": {},
   "outputs": [],
   "source": [
    "def get_reference_node(adj_matrix):\n",
    "    return np.argmax(np.sum(adj_matrix, axis=0))"
   ]
  },
  {
   "cell_type": "code",
   "execution_count": null,
   "id": "69379a77-93ee-480b-9ead-8c84bae09aee",
   "metadata": {},
   "outputs": [],
   "source": [
    "#This function splits a 3nx3n matrix into a set of 3x3 matrices\n",
    "def split_states(x):\n",
    "    x_small = x.transpose()\n",
    "    res = [ x_small[:,i*3:(i+1)*3].transpose() for i in range(x_small.shape[1]//3)]\n",
    "    return res"
   ]
  },
  {
   "cell_type": "code",
   "execution_count": null,
   "id": "347932d3-aba3-454c-81c8-e76eecc9c67f",
   "metadata": {},
   "outputs": [],
   "source": [
    "def get_normalization_matrix(imgs):\n",
    "    RESCALE = 1./np.max(imgs[0].shape)\n",
    "    T_norm = np.diag([RESCALE,RESCALE,1])\n",
    "    return T_norm"
   ]
  },
  {
   "cell_type": "code",
   "execution_count": null,
   "id": "72729c47-1559-4e07-8c3b-28797621c0ae",
   "metadata": {},
   "outputs": [],
   "source": []
  },
  {
   "cell_type": "code",
   "execution_count": null,
   "id": "33b5aa7f-a1d3-46ca-98cd-f828870298c3",
   "metadata": {},
   "outputs": [],
   "source": []
  }
 ],
 "metadata": {
  "kernelspec": {
   "display_name": "Python 3 (ipykernel)",
   "language": "python",
   "name": "python3"
  },
  "language_info": {
   "codemirror_mode": {
    "name": "ipython",
    "version": 3
   },
   "file_extension": ".py",
   "mimetype": "text/x-python",
   "name": "python",
   "nbconvert_exporter": "python",
   "pygments_lexer": "ipython3",
   "version": "3.9.12"
  }
 },
 "nbformat": 4,
 "nbformat_minor": 5
}
