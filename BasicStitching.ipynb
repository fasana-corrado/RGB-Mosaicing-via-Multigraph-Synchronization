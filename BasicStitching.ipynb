{
 "cells": [
  {
   "cell_type": "markdown",
   "id": "ff7cea9b-4d4b-4a01-b474-178c3b33404e",
   "metadata": {},
   "source": [
    "# Basic Image Stitching\n",
    "This notebook contains the code that implements a simple stitching mechanism.\n",
    "The idea is to find the corresponding points between the images and then after having defined an order between the images, stitch them one after the other. Thus, the first image is stitched with the second, the third is stitched with the result of the previous stitching, and so on."
   ]
  },
  {
   "cell_type": "markdown",
   "id": "b186ff21-b2dd-448e-ad64-956c403a3e83",
   "metadata": {},
   "source": [
    "## Importing libraries"
   ]
  },
  {
   "cell_type": "code",
   "execution_count": 1,
   "id": "cfc1b4d4-2cfc-4e6b-b71d-e36899eeabc4",
   "metadata": {},
   "outputs": [],
   "source": [
    "import cv2 as cv\n",
    "import os\n",
    "import shutil\n",
    "import numpy as np\n",
    "import matplotlib.pyplot as plt\n",
    "import networkx as nx\n",
    "import ipynb.fs.defs.Utils as Utils\n",
    "import ipynb.fs.defs.ImageStitcher as ImageStitcher\n",
    "from matplotlib.pyplot import figure"
   ]
  },
  {
   "cell_type": "markdown",
   "id": "9b6b485c-cabf-4a06-b9b0-ff9820b31671",
   "metadata": {},
   "source": [
    "## Functions definition"
   ]
  },
  {
   "cell_type": "code",
   "execution_count": null,
   "id": "3fb3330e-23a9-4d7f-baee-591bf17ee7ba",
   "metadata": {},
   "outputs": [],
   "source": [
    "# This function computes a set of homographies following the structure of the Spanning Tree.\n",
    "# The goal is to find an homography for each image that projects it in the reference frame of the \"idx_ref\" image.\n",
    "def get_homographies_from_neighbors(graph,   # Graph (Maximum ST) used to define the ordering of the transformations to be applied to each image\n",
    "                                    idx_ref, # Index of the reference image\n",
    "                                    Z,       # Matrix containing the homographies between the images\n",
    "                                   ):\n",
    "    \n",
    "    # Start from the reference image\n",
    "    # For the first node the father is the node itself\n",
    "    root_idx = idx_ref\n",
    "    father_idx = idx_ref\n",
    "    \n",
    "    # Precompute the set of homographies, initialized to the identity\n",
    "    H = [np.eye(3)]*len(graph.nodes)\n",
    "    \n",
    "    # Recursively updates the homographies in order to project the children of a node in the father reference frame.\n",
    "    compute_homographies_from_pair(graph = graph,\n",
    "                                   H = H, \n",
    "                                   root_idx = root_idx,\n",
    "                                   father_idx = father_idx, \n",
    "                                   Z = Z)\n",
    "    \n",
    "    return H"
   ]
  },
  {
   "cell_type": "code",
   "execution_count": null,
   "id": "7b736e34-b694-45dc-99b7-efcff0def01b",
   "metadata": {},
   "outputs": [],
   "source": [
    "# Updates the homographies for all the children of the \"root_idx\" node.\n",
    "# The homography that brings a child node \"n\" in the \"idx_ref\" can be computed by first projecting \"n\" in the father's frame (\"root_idx\"), and then using the father's projection stored in H.\n",
    "def compute_homographies_from_pair(graph,       # Graph used to define the order of images to be stitched\n",
    "                                    H,          # Set of homographies\n",
    "                                    root_idx,   # Index of the current node\n",
    "                                    father_idx, # Index of the father of the current node \"root_idx\"\n",
    "                                    Z,          # Matrix containing the homographies between the nodes\n",
    "                                  ):\n",
    "    \n",
    "    # Find the neighbors of the current node in the graph\n",
    "    # Note: we know that the graph is a tree, but there is not a data-structure for them in this library, \n",
    "    # so we must remember that also the father of a node is returned when retrieving its neighbors.\n",
    "    nb_it = graph.neighbors(root_idx) \n",
    "    \n",
    "    # For each neighbor...\n",
    "    for n in nb_it:\n",
    "        #...that is a child, and not the father \n",
    "        if n != father_idx:\n",
    "            \n",
    "            # Define the homography that bring a child \"n\" in the global reference frame as:\n",
    "            # - first project \"n\" in the father's frame (\"root_idx\"),\n",
    "            # - then use the father's projection stored in H[root_idx].\n",
    "            H[n] = H[root_idx] @ Z[(root_idx)*3:(root_idx+1)*3,(n)*3:(n+1)*3]\n",
    "            \n",
    "            #Call again the procedure to compute homographies of the descendants in the graph\n",
    "            child = compute_homographies_from_pair(graph = graph,\n",
    "                                                   H = H, \n",
    "                                                   root_idx = n,\n",
    "                                                   father_idx = root_idx, \n",
    "                                                   Z = Z\n",
    "                                                  )\n"
   ]
  },
  {
   "cell_type": "code",
   "execution_count": null,
   "id": "66bf6c0e-da4e-4210-a90d-15b83b7b6214",
   "metadata": {},
   "outputs": [],
   "source": [
    "# This function can be used to manage the whole procedure of BasicStitching\n",
    "# Returns: Set of normalized homographies (H), stitched image (stitch)\n",
    "def basic_stitching(dataset_name,    # Name of the dataset to be used\n",
    "                    imgs,            # Images to be stitched\n",
    "                    T_norm,          # Normalization matrix\n",
    "                    Z,               # Matrix containing the homographies between images\n",
    "                    adj_matrix,      # Adjacency matrix of the graph built according to the matches between the images\n",
    "                    weight_matrix,   # Weight matrix of the graph built according to the matches between the images\n",
    "                    idx_ref = 0,     # Index of the reference image\n",
    "                    verbose = True,  # If True prints additional graphs and images\n",
    "                    beautify = True, # If True improves the quality of the stitched image\n",
    "                    save_output = True, # If True saves the output of the procedure\n",
    "                    stitching_dir = \"stitched\", # Name of the father directory\n",
    "                    basic_stitching_dir = \"basic_stitching\", # Name of the directory where to store the final results\n",
    "                    warp_shape = [10000,10000] # Shape of the stitched image\n",
    "                   ):\n",
    "    \n",
    "    # Directory where to store the output\n",
    "    output_dir = os.path.join(os.path.join(stitching_dir,dataset_name),basic_stitching_dir)\n",
    "    \n",
    "    # Check whether the directories already exist and create them if not\n",
    "    if save_output:\n",
    "        if os.path.isdir(output_dir):   \n",
    "            shutil.rmtree(output_dir)\n",
    "        if not os.path.isdir(output_dir):   \n",
    "            os.makedirs(output_dir)\n",
    "    \n",
    "    # Build the graph starting from the images\n",
    "    graph = Utils.build_graph(imgs, \n",
    "                              adj_matrix, \n",
    "                              weight_matrix)\n",
    "    \n",
    "    # Compute the maximum ST of the obtained graph and print it\n",
    "    spanning_tree = nx.maximum_spanning_tree(graph)\n",
    "    \n",
    "    # Compute homographies\n",
    "    H = get_homographies_from_neighbors(spanning_tree, idx_ref, Z)\n",
    "    \n",
    "    # Stitch images together\n",
    "    stitcher = ImageStitcher.ImageStitcher(imgs)\n",
    "    \n",
    "    # Stitch all the images\n",
    "    _,stitch = stitcher.stitch_images(H, idx_ref, T_norm , beautify=beautify, size = warp_shape) \n",
    "    \n",
    "    # If required save the output\n",
    "    if save_output:\n",
    "        cv.imwrite(os.path.join(output_dir,\"stitched.jpg\"), cv.cvtColor(stitch,cv.COLOR_RGB2BGR))\n",
    "    \n",
    "  \n",
    "    # If required plot the stitched image and intermediate results\n",
    "    if verbose:\n",
    "        Utils.advanced_print_graph(graph, \n",
    "                                  save_output, \n",
    "                                  output_dir,\n",
    "                                  \"graph\")\n",
    "        \n",
    "        Utils.print_graph(spanning_tree, save_output, output_dir, \"spanning-tree\")\n",
    "        figure(figsize=(40, 40), dpi=80)\n",
    "        plt.imshow(stitch,),plt.show() \n",
    "    \n",
    "    return H, stitch"
   ]
  },
  {
   "cell_type": "code",
   "execution_count": null,
   "id": "6362963a-319d-4c6b-bd8f-5a3a40da8ca7",
   "metadata": {},
   "outputs": [],
   "source": []
  }
 ],
 "metadata": {
  "kernelspec": {
   "display_name": "Python 3 (ipykernel)",
   "language": "python",
   "name": "python3"
  },
  "language_info": {
   "codemirror_mode": {
    "name": "ipython",
    "version": 3
   },
   "file_extension": ".py",
   "mimetype": "text/x-python",
   "name": "python",
   "nbconvert_exporter": "python",
   "pygments_lexer": "ipython3",
   "version": "3.9.12"
  }
 },
 "nbformat": 4,
 "nbformat_minor": 5
}
