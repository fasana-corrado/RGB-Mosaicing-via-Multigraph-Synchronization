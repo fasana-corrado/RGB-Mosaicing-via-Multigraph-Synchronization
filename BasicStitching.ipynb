{
 "cells": [
  {
   "cell_type": "markdown",
   "id": "ff7cea9b-4d4b-4a01-b474-178c3b33404e",
   "metadata": {},
   "source": [
    "# Image Stitching\n",
    "This notebook contains the code that implements a simple stitching mechanism.\n",
    "The idea is to find the corresponding points between the images and then after having defined an order between the images, stitch them one after the other. Thus, the first image is stitched with the second, the third is stitched with the result of the previous stitching, and on so."
   ]
  },
  {
   "cell_type": "markdown",
   "id": "b186ff21-b2dd-448e-ad64-956c403a3e83",
   "metadata": {},
   "source": [
    "## Importing libraries"
   ]
  },
  {
   "cell_type": "code",
   "execution_count": 1,
   "id": "cfc1b4d4-2cfc-4e6b-b71d-e36899eeabc4",
   "metadata": {},
   "outputs": [],
   "source": [
    "import cv2 as cv\n",
    "import os\n",
    "import shutil\n",
    "import numpy as np\n",
    "import matplotlib.pyplot as plt\n",
    "import networkx as nx\n",
    "import ipynb.fs.defs.Utils as Utils\n",
    "from matplotlib.pyplot import figure"
   ]
  },
  {
   "cell_type": "markdown",
   "id": "9b6b485c-cabf-4a06-b9b0-ff9820b31671",
   "metadata": {},
   "source": [
    "## Functions definition"
   ]
  },
  {
   "cell_type": "code",
   "execution_count": 2,
   "id": "442da491-4eeb-4b53-a9f8-4874f83af506",
   "metadata": {},
   "outputs": [],
   "source": [
    "#This function transform an image according to an homography\n",
    "def transform_image(ref_index, #Index of the reference image\n",
    "                    transf_index, #Index of the source image\n",
    "                    image, #Image to be transformed in the reference frame\n",
    "                    T_norm, #Normalization matrix\n",
    "                    Z, #Matrix containing the homographies between the images\n",
    "                    warp_shape = [2000,1000] #Dimension of the final image\n",
    "                   ):\n",
    "    \n",
    "        #Retrieving the homography from the source image to the reference one\n",
    "        h = Z[(ref_index)*3:(ref_index+1)*3,(transf_index)*3:(transf_index+1)*3]\n",
    "        #Transform the image\n",
    "        im_transformed = cv.warpPerspective(image,  np.linalg.inv(T_norm) @ h @ T_norm, warp_shape)\n",
    "        \n",
    "        return im_transformed"
   ]
  },
  {
   "cell_type": "code",
   "execution_count": 3,
   "id": "6fed5363-ef74-488b-940f-0b1c87285d6e",
   "metadata": {},
   "outputs": [],
   "source": [
    "#This function performs the stitching of the given set of images\n",
    "def stitch_images(imgs, #Images to be stitched\n",
    "                  graph, #Graph used to define the order of images to be stitched\n",
    "                  root_idx, #Index of the root of the graph\n",
    "                  father_idx, #Index of the father of the current image in the graph\n",
    "                  T_norm, #Normalization matrix\n",
    "                  Z,  #Matrix containing the homographies between the images\n",
    "                  warp_shape = [2000,1000], #Shape of the stitched image\n",
    "                  save_output=True, #If True save the output of the procedure\n",
    "                  output_dir = \"output\", #Directory where to save the output\n",
    "                  verbose=False #If True prints the intermediate results\n",
    "                 ):\n",
    "    base_image = cv.warpPerspective(imgs[root_idx], np.eye(3), warp_shape) #Transform the root image (just to get images of the same dimension)\n",
    "    nb_it = graph.neighbors(root_idx) #Find the neighbours of the current image in the graph\n",
    "    \n",
    "    #For each neinghbour...\n",
    "    for n in nb_it:\n",
    "        #...that is not the father image\n",
    "        if n != father_idx:\n",
    "            #Call again the procedure to stitch images below in the graph\n",
    "            child = stitch_images(imgs, graph, n, root_idx, T_norm, Z, warp_shape, save_output, output_dir, verbose)\n",
    "            #Transform the obtained image in the reference frame of the current one\n",
    "            tr_child = transform_image(root_idx, n, child, T_norm, Z, warp_shape)\n",
    "            #Stitch images\n",
    "            base_image =  np.maximum(base_image,tr_child)\n",
    "    \n",
    "    #Print intermediate results and save the output if required\n",
    "    if verbose:\n",
    "        figure(figsize=(40, 40), dpi=80)\n",
    "        plt.imshow(base_image,),plt.show() \n",
    "    if save_output:\n",
    "        cv.imwrite(os.path.join(output_dir,f\"{root_idx}.jpg\"), cv.cvtColor(base_image,cv.COLOR_RGB2BGR))\n",
    "    return base_image  "
   ]
  },
  {
   "cell_type": "code",
   "execution_count": 5,
   "id": "de93c39e-4ae9-4953-82ec-aaf33196da2a",
   "metadata": {},
   "outputs": [],
   "source": [
    "#This function can be used to manage the whole procedure of BasicStitching\n",
    "def basic_stitching(dataset_name, #Name of the dataset to be used\n",
    "                    imgs, #Images to be stitched\n",
    "                    T_norm, #Normalization matrix\n",
    "                    Z, #Matrix containing the homographies between images\n",
    "                    adj_matrix, #Adjacency matrix of the graph built according to the matches between the images\n",
    "                    weight_matrix, #Weight matrix of the graph built according to the matches between the images\n",
    "                    idx_ref = 0, #Index of the reference image\n",
    "                    verbose = True, #If True print also intermediate results\n",
    "                    save_output = True, #If True saves the output of the procedure\n",
    "                    stitching_dir = \"stitched\", #Name of the father directory\n",
    "                    partial_results_dir = \"partial\", #Name of the directory used to store the intermediate results\n",
    "                    basic_stitching_dir = \"basic_stitching\", #Name of the directory where to store the final results\n",
    "                    warp_shape = [10000,10000]\n",
    "                   ):\n",
    "    \n",
    "    #Directory where to store the output\n",
    "    output_dir = os.path.join(os.path.join(stitching_dir,dataset_name),basic_stitching_dir)\n",
    "    #Directory where to store the intermediate results\n",
    "    partial_output_dir = os.path.join(output_dir, partial_results_dir)\n",
    "    \n",
    "    #Check whether the directories already exist and create them if not\n",
    "    if save_output:\n",
    "        if os.path.isdir(output_dir):   \n",
    "            shutil.rmtree(output_dir)\n",
    "        if not os.path.isdir(output_dir):   \n",
    "            os.makedirs(output_dir)\n",
    "        if not os.path.isdir(partial_output_dir):\n",
    "            os.makedirs(partial_output_dir)\n",
    "    \n",
    "    #Build the graph starting from the images\n",
    "    graph = Utils.build_and_print_graph(imgs, \n",
    "                                  adj_matrix, \n",
    "                                  weight_matrix, \n",
    "                                  save_output, \n",
    "                                  output_dir,\n",
    "                                  \"graph\")\n",
    "    \n",
    "    #Compute the maximum SP of the obtained graph and print it\n",
    "    spanning_tree = nx.maximum_spanning_tree(graph)\n",
    "    Utils.print_graph(spanning_tree, save_output, output_dir, \"spanning-tree\")\n",
    "    \n",
    "    #Stitch images together\n",
    "    root = idx_ref\n",
    "    stitched_image = stitch_images(imgs, \n",
    "                                   spanning_tree, \n",
    "                                   root, \n",
    "                                   root, \n",
    "                                   T_norm,\n",
    "                                   Z, \n",
    "                                   warp_shape, \n",
    "                                   save_output, \n",
    "                                   partial_results_dir, \n",
    "                                   verbose)\n",
    "    \n",
    "    #If required save the output\n",
    "    if save_output:\n",
    "        cv.imwrite(os.path.join(output_dir,\"stitched.jpg\"), cv.cvtColor(stitched_image,cv.COLOR_RGB2BGR))\n",
    "        \n",
    "    #Plot the stitched image\n",
    "    figure(figsize=(40, 40), dpi=80)\n",
    "    plt.imshow(stitched_image,),plt.show() \n",
    "    \n",
    "    return stitched_image"
   ]
  },
  {
   "cell_type": "code",
   "execution_count": null,
   "id": "6362963a-319d-4c6b-bd8f-5a3a40da8ca7",
   "metadata": {},
   "outputs": [],
   "source": []
  }
 ],
 "metadata": {
  "kernelspec": {
   "display_name": "Python 3 (ipykernel)",
   "language": "python",
   "name": "python3"
  },
  "language_info": {
   "codemirror_mode": {
    "name": "ipython",
    "version": 3
   },
   "file_extension": ".py",
   "mimetype": "text/x-python",
   "name": "python",
   "nbconvert_exporter": "python",
   "pygments_lexer": "ipython3",
   "version": "3.9.8"
  }
 },
 "nbformat": 4,
 "nbformat_minor": 5
}
