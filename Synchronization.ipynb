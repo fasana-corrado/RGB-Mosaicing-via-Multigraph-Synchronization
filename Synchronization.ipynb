{
 "cells": [
  {
   "cell_type": "code",
   "execution_count": 1,
   "id": "c47ae28f-d741-4624-9d90-5ed22e454a6f",
   "metadata": {},
   "outputs": [],
   "source": [
    "import cv2 as cv\n",
    "import os\n",
    "import numpy as np\n",
    "import matplotlib.pyplot as plt"
   ]
  },
  {
   "cell_type": "code",
   "execution_count": 2,
   "id": "d2f206bb-aabc-4422-938a-bfaae457f274",
   "metadata": {},
   "outputs": [],
   "source": [
    "#directories\n",
    "dataset_dir = 'dataset'\n",
    "sift_dir = 'sift'\n",
    "matches_dir = 'matches'\n",
    "salient_matches_dir =\"salient_matches\"\n",
    "output_dir =\"output\""
   ]
  },
  {
   "cell_type": "code",
   "execution_count": 3,
   "id": "99d1e6b1-e8fb-4540-a5c9-d550075c792a",
   "metadata": {},
   "outputs": [],
   "source": [
    "#store the computed images on disk\n",
    "save_output = False"
   ]
  },
  {
   "cell_type": "code",
   "execution_count": 4,
   "id": "cb5a5169-378b-4b1c-81fb-c9eed2ad193d",
   "metadata": {},
   "outputs": [],
   "source": [
    "def load_images_from_folder(folder):\n",
    "    images = []\n",
    "    for filename in os.listdir(folder):\n",
    "        img = cv.imread(os.path.join(folder,filename))\n",
    "        if img is not None:\n",
    "            images.append(img)\n",
    "    return images"
   ]
  },
  {
   "cell_type": "code",
   "execution_count": 5,
   "id": "2151d6f7-e70c-4639-b897-5e6c7fa5138e",
   "metadata": {},
   "outputs": [],
   "source": [
    "class ImageFeature:\n",
    "    def __init__(self, image, index):\n",
    "        self.image = image\n",
    "        self.index = index\n",
    "    \n",
    "    def SIFT(self, save_output = False, output_dir = \"\"):\n",
    "        sift = cv.SIFT_create()\n",
    "        self.kp, self.des = sift.detectAndCompute(self.image,None)\n",
    "        self.img_with_sift=cv.drawKeypoints(self.image,self.kp,self.image)\n",
    "        if save_output:\n",
    "            cv.imwrite(os.path.join(output_dir,f\"{self.index}.jpg\"), self.img_with_sift)"
   ]
  },
  {
   "cell_type": "code",
   "execution_count": 6,
   "id": "c0e3ffce-8842-4107-bf55-cdaec0fd872d",
   "metadata": {},
   "outputs": [],
   "source": [
    "class Match:\n",
    "    def __init__(self, image_feature_source, image_feature_destination):\n",
    "        self.image_feature_source = image_feature_source\n",
    "        self.image_feature_destination = image_feature_destination\n",
    "    \n",
    "    def feature_matching(self, threshold, save_output = False, output_dir = \"\"):\n",
    "        # FLANN parameters\n",
    "        FLANN_INDEX_KDTREE = 1\n",
    "        index_params = dict(algorithm = FLANN_INDEX_KDTREE, trees = 5)\n",
    "        search_params = dict(checks=50)   # or pass empty dictionary\n",
    "        flann = cv.FlannBasedMatcher(index_params,search_params)\n",
    "        matches = flann.knnMatch(self.image_feature_source.des,\n",
    "                                 self.image_feature_destination.des,\n",
    "                                 k=2)\n",
    "        # Need to draw only good matches, so create a mask\n",
    "        self.good = []\n",
    "        for m,n in matches:\n",
    "            if m.distance < threshold*n.distance:\n",
    "                self.good.append((m,n))\n",
    "        draw_params = dict(matchColor = (0,255,0),\n",
    "                           singlePointColor = (255,0,0),\n",
    "                           flags = cv.DrawMatchesFlags_DEFAULT)\n",
    "        self.img_with_match = cv.drawMatchesKnn(self.image_feature_source.image,\n",
    "                                                self.image_feature_source.kp,\n",
    "                                                self.image_feature_destination.image,\n",
    "                                                self.image_feature_destination.kp,\n",
    "                                                self.good,None,**draw_params)\n",
    "        if save_output:\n",
    "            cv.imwrite(os.path.join(output_dir,f\"{self.image_feature_source.index}_{ self.image_feature_destination.index}.jpg\"),self.img_with_match)\n",
    "        \n",
    "    def check_salient(self, threshold, save_output = False, output_dir = \"\"):\n",
    "        if len(self.good) > threshold:\n",
    "            if save_output:\n",
    "                cv.imwrite(os.path.join(output_dir,f\"{self.image_feature_source.index}_{ self.image_feature_destination.index}.jpg\"),self.img_with_match)\n",
    "            return True\n",
    "        return False\n",
    "    \n",
    "    def fit_homography(self):\n",
    "        self.src_pts = np.float32([self.image_feature_source.kp[m[0].queryIdx].pt for m in self.good]).reshape(-1,1,2)  \n",
    "        self.dst_pts = np.float32([self.image_feature_destination.kp[m[0].trainIdx].pt for m in self.good]).reshape(-1,1,2)\n",
    "        self.M, self.mask = cv.findHomography(self.src_pts, self.dst_pts, cv.RANSAC,5.0)\n",
    "    \n",
    "    def normalize_homography(self):\n",
    "        det = np.linalg.det(self.M)\n",
    "        self.H = self.M/(det** (1./3.))\n",
    "        new_det = np.linalg.det(self.H)\n",
    "    "
   ]
  },
  {
   "cell_type": "code",
   "execution_count": 7,
   "id": "1e2012e6-095e-4c01-ab08-beeaa3973d01",
   "metadata": {},
   "outputs": [],
   "source": [
    "imgs = load_images_from_folder(dataset_dir)\n",
    "n = len(imgs)"
   ]
  },
  {
   "cell_type": "code",
   "execution_count": 8,
   "id": "68f57580-c6e7-4cbe-99a3-2b731fa8703a",
   "metadata": {},
   "outputs": [],
   "source": [
    "image_features =[]\n",
    "for i in range(0,n):\n",
    "    image_feature = ImageFeature(imgs[i], i)\n",
    "    image_feature.SIFT(save_output, sift_dir)\n",
    "    image_features.append(image_feature)"
   ]
  },
  {
   "cell_type": "code",
   "execution_count": 9,
   "id": "185d65c5-4845-4105-8f02-6d8727a3f939",
   "metadata": {},
   "outputs": [],
   "source": [
    "matches =[]\n",
    "for i in range(0, n-1):\n",
    "    for j in range(i+1, n):\n",
    "        match = Match(image_features[i], image_features[j])\n",
    "        match.feature_matching(0.6, save_output, matches_dir)\n",
    "        matches.append(match)\n"
   ]
  },
  {
   "cell_type": "code",
   "execution_count": 10,
   "id": "689dfb2a-0e44-46a8-b089-0d6a13af6b16",
   "metadata": {},
   "outputs": [],
   "source": [
    "matches_th = 50\n",
    "salient_matches = list(filter(lambda x: x.check_salient(matches_th, save_output, salient_matches_dir),matches))  \n",
    "    "
   ]
  },
  {
   "cell_type": "code",
   "execution_count": 11,
   "id": "dfc94c83-0c14-4b37-9232-4f40c50672ae",
   "metadata": {},
   "outputs": [],
   "source": [
    "total_matches = []\n",
    "for match in salient_matches:\n",
    "    inv_match = Match(match.image_feature_destination, match.image_feature_source)\n",
    "    inv_match.feature_matching(0.6, save_output, matches_dir)\n",
    "    total_matches.append(match)\n",
    "    total_matches.append(inv_match)"
   ]
  },
  {
   "cell_type": "code",
   "execution_count": 12,
   "id": "a283ebef-0a11-42f4-ae4d-cbe57791b0c0",
   "metadata": {},
   "outputs": [],
   "source": [
    "gamma = np.eye(n,n)\n",
    "for match in total_matches:\n",
    "    gamma[match.image_feature_source.index, match.image_feature_destination.index] = 1"
   ]
  },
  {
   "cell_type": "code",
   "execution_count": 13,
   "id": "b53c16a5-2e67-4939-8038-67933fcd22a7",
   "metadata": {},
   "outputs": [],
   "source": [
    "zeta = np.sum(gamma, axis=1)"
   ]
  },
  {
   "cell_type": "code",
   "execution_count": 14,
   "id": "0db3a92b-2979-42b0-a38a-d037b250530f",
   "metadata": {},
   "outputs": [],
   "source": [
    "H = np.eye(3*n, 3*n)\n",
    "for match in total_matches:\n",
    "    match.fit_homography()\n",
    "    match.normalize_homography()\n",
    "    H[3*match.image_feature_source.index:3*(match.image_feature_source.index+1),\n",
    "      3*match.image_feature_destination.index:3*(match.image_feature_destination.index+1)] = match.H\n",
    "       "
   ]
  },
  {
   "cell_type": "code",
   "execution_count": 15,
   "id": "daf1b4b7-b6cd-44cd-8de2-624f83a18236",
   "metadata": {},
   "outputs": [],
   "source": [
    "G = np.copy(H)\n",
    "for i in range(0,n):\n",
    "    G[3*i:3*(i+1),3*i:3*(i+1)] = np.eye(3,3)*(1-zeta[i])"
   ]
  },
  {
   "cell_type": "code",
   "execution_count": 16,
   "id": "82914b54-3945-4ba3-a801-80108def5a48",
   "metadata": {},
   "outputs": [],
   "source": [
    "filename = \"G.npy\"\n",
    "np.save(os.path.join(output_dir,filename), G)"
   ]
  },
  {
   "cell_type": "code",
   "execution_count": 18,
   "id": "64835473-50d6-447d-97e9-8d2cf09f7565",
   "metadata": {},
   "outputs": [
    {
     "name": "stdout",
     "output_type": "stream",
     "text": [
      "[[-5. -0. -0.]\n",
      " [-0. -5. -0.]\n",
      " [-0. -0. -5.]]\n"
     ]
    }
   ],
   "source": [
    "i=0\n",
    "j=0\n",
    "print(G[3*i:3*(i+1),3*j:3*(j+1)])"
   ]
  },
  {
   "cell_type": "code",
   "execution_count": null,
   "id": "35aa90de-82f3-4930-b137-842c62044277",
   "metadata": {},
   "outputs": [],
   "source": []
  }
 ],
 "metadata": {
  "kernelspec": {
   "display_name": "Python 3 (ipykernel)",
   "language": "python",
   "name": "python3"
  },
  "language_info": {
   "codemirror_mode": {
    "name": "ipython",
    "version": 3
   },
   "file_extension": ".py",
   "mimetype": "text/x-python",
   "name": "python",
   "nbconvert_exporter": "python",
   "pygments_lexer": "ipython3",
   "version": "3.9.10"
  }
 },
 "nbformat": 4,
 "nbformat_minor": 5
}
