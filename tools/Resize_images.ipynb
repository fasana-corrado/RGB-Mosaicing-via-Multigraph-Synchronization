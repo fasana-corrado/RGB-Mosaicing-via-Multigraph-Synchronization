{
 "cells": [
  {
   "cell_type": "code",
   "execution_count": 1,
   "id": "22f55d3e-5331-40cc-83c9-59827880ac84",
   "metadata": {},
   "outputs": [],
   "source": [
    "import cv2 as cv\n",
    "import os\n",
    "import numpy as np\n",
    "import matplotlib.pyplot as plt"
   ]
  },
  {
   "cell_type": "code",
   "execution_count": 2,
   "id": "2349a15c-cddd-42b0-97a1-2524cef0c62a",
   "metadata": {},
   "outputs": [],
   "source": [
    "#directories\n",
    "dataset_dir = 'datasets/valley_panorama'\n",
    "output_dir =\"datasets/valley_panorama_adj\""
   ]
  },
  {
   "cell_type": "code",
   "execution_count": 3,
   "id": "054e0ec8-86d8-43fc-8545-e0351f2ab13f",
   "metadata": {},
   "outputs": [],
   "source": [
    "def load_images_from_folder(folder):\n",
    "    images = []\n",
    "    for filename in os.listdir(folder):\n",
    "        img = cv.imread(os.path.join(folder,filename))\n",
    "        if img is not None:\n",
    "            images.append(img)\n",
    "    return images"
   ]
  },
  {
   "cell_type": "code",
   "execution_count": 4,
   "id": "57f80e04-026b-4cb5-b679-b7bd7fe1b0b3",
   "metadata": {},
   "outputs": [],
   "source": [
    "imgs = load_images_from_folder(dataset_dir)"
   ]
  },
  {
   "cell_type": "code",
   "execution_count": 5,
   "id": "1eee85bd-03a8-43c3-b01b-7e6ec05ef5fc",
   "metadata": {},
   "outputs": [
    {
     "data": {
      "text/plain": [
       "(376, 650, 3)"
      ]
     },
     "execution_count": 5,
     "metadata": {},
     "output_type": "execute_result"
    }
   ],
   "source": [
    "imgs[0].shape"
   ]
  },
  {
   "cell_type": "code",
   "execution_count": 6,
   "id": "7672fda8-9919-4674-aae6-78604f365027",
   "metadata": {},
   "outputs": [],
   "source": [
    "min_w = imgs[0].shape[1]\n",
    "min_h = imgs[0].shape[0]\n",
    "\n",
    "for i in imgs:\n",
    "    if i.shape[1] < min_w:\n",
    "        min_w = i.shape[1]\n",
    "    if i.shape[0] < min_h:\n",
    "        min_h = i.shape[0]"
   ]
  },
  {
   "cell_type": "code",
   "execution_count": 7,
   "id": "3b586b13-6320-4738-bac7-f79d00c1db27",
   "metadata": {},
   "outputs": [
    {
     "name": "stdout",
     "output_type": "stream",
     "text": [
      "504 309\n"
     ]
    }
   ],
   "source": [
    "print(min_w, min_h)"
   ]
  },
  {
   "cell_type": "code",
   "execution_count": 8,
   "id": "b5193a5b-4494-4282-b694-859fc0cbe670",
   "metadata": {},
   "outputs": [],
   "source": [
    "curr_shape = (min_h, min_w, imgs[0].shape[2])"
   ]
  },
  {
   "cell_type": "code",
   "execution_count": 9,
   "id": "1e02b97c-4081-4b03-bcd4-dc66699c36ad",
   "metadata": {},
   "outputs": [],
   "source": [
    "def center_crop(img, n_size):\n",
    "    n_h, n_w = n_size\n",
    "    h = img.shape[0]\n",
    "    w = img.shape[1]\n",
    "    \n",
    "    h_del = (h - n_h)//2\n",
    "    w_del = (w - n_w)//2\n",
    "    \n",
    "    return img[h_del:h_del + n_h, w_del:w_del + n_w]"
   ]
  },
  {
   "cell_type": "code",
   "execution_count": 10,
   "id": "a3ecef54-631d-4cf5-bbdb-bca0e603bbc1",
   "metadata": {},
   "outputs": [],
   "source": [
    "def top_crop(img, n_size):\n",
    "    n_h, n_w = n_size\n",
    "    h = img.shape[0]\n",
    "    w = img.shape[1]\n",
    "    \n",
    "    h_del = 0\n",
    "    w_del = (w - n_w)//2\n",
    "    \n",
    "    return img[h_del:h_del + n_h, w_del:w_del + n_w]"
   ]
  },
  {
   "cell_type": "code",
   "execution_count": 11,
   "id": "4190dae4-aa1d-45fd-9120-9d799c9c0ad3",
   "metadata": {},
   "outputs": [],
   "source": [
    "#center_crop(imgs[0], (min_h, min_w)).shape"
   ]
  },
  {
   "cell_type": "code",
   "execution_count": 12,
   "id": "431690ce-dde3-4bd3-98bf-817654d54ae7",
   "metadata": {},
   "outputs": [
    {
     "name": "stdout",
     "output_type": "stream",
     "text": [
      "Current size (height, width, channels):  (309, 504, 3)\n"
     ]
    }
   ],
   "source": [
    "print(\"Current size (height, width, channels): \",curr_shape)"
   ]
  },
  {
   "cell_type": "code",
   "execution_count": 13,
   "id": "381bba3a-a6f5-4940-8a1f-c2c875eff7ef",
   "metadata": {},
   "outputs": [
    {
     "name": "stdout",
     "output_type": "stream",
     "text": [
      "Scaling factor:  1\n"
     ]
    }
   ],
   "source": [
    "scaling = 1\n",
    "print(\"Scaling factor: \",scaling)"
   ]
  },
  {
   "cell_type": "code",
   "execution_count": 14,
   "id": "5368684e-1a5e-4f0f-885d-f823ecb65137",
   "metadata": {},
   "outputs": [
    {
     "name": "stdout",
     "output_type": "stream",
     "text": [
      "Resized Dimensions (height, width):  (309, 504)\n"
     ]
    }
   ],
   "source": [
    "width = int(curr_shape[1] * scaling )\n",
    "height = int(curr_shape[0] * scaling )\n",
    "dim = (width, height)\n",
    " \n",
    "print('Resized Dimensions (height, width): ',dim[::-1])"
   ]
  },
  {
   "cell_type": "code",
   "execution_count": 15,
   "id": "18063030-e024-4426-9748-512c5dac76ec",
   "metadata": {},
   "outputs": [],
   "source": [
    "if not os.path.isdir(output_dir):\n",
    "    os.mkdir(output_dir)\n",
    "for i,img in enumerate(imgs):\n",
    "    cv.imwrite(os.path.join(output_dir,f\"{i:02}.jpg\"),cv.resize(center_crop(img, (min_h, min_w)), dim))"
   ]
  },
  {
   "cell_type": "code",
   "execution_count": null,
   "id": "9e55822e-111d-4f0b-b49a-b4c8642b8994",
   "metadata": {},
   "outputs": [],
   "source": []
  }
 ],
 "metadata": {
  "kernelspec": {
   "display_name": "Python 3 (ipykernel)",
   "language": "python",
   "name": "python3"
  },
  "language_info": {
   "codemirror_mode": {
    "name": "ipython",
    "version": 3
   },
   "file_extension": ".py",
   "mimetype": "text/x-python",
   "name": "python",
   "nbconvert_exporter": "python",
   "pygments_lexer": "ipython3",
   "version": "3.9.11"
  }
 },
 "nbformat": 4,
 "nbformat_minor": 5
}
