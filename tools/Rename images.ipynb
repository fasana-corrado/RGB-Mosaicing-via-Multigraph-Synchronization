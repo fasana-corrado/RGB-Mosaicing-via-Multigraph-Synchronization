{
 "cells": [
  {
   "cell_type": "code",
   "execution_count": 2,
   "id": "22f55d3e-5331-40cc-83c9-59827880ac84",
   "metadata": {},
   "outputs": [],
   "source": [
    "import cv2 as cv\n",
    "import os\n",
    "import numpy as np\n",
    "import matplotlib.pyplot as plt"
   ]
  },
  {
   "cell_type": "code",
   "execution_count": 3,
   "id": "2349a15c-cddd-42b0-97a1-2524cef0c62a",
   "metadata": {},
   "outputs": [],
   "source": [
    "#Directories\n",
    "dataset_dir = 'datasets/drone' #Directory of the dataset\n",
    "output_dir =\"datasets/drone_adj\" #Directory to store the resized dataset"
   ]
  },
  {
   "cell_type": "code",
   "execution_count": 4,
   "id": "054e0ec8-86d8-43fc-8545-e0351f2ab13f",
   "metadata": {},
   "outputs": [],
   "source": [
    "#Function to load images\n",
    "def load_images_from_folder(folder):\n",
    "    images = []\n",
    "    for filename in os.listdir(folder):\n",
    "        img = cv.imread(os.path.join(folder,filename))\n",
    "        if img is not None:\n",
    "            images.append(img)\n",
    "    return images"
   ]
  },
  {
   "cell_type": "code",
   "execution_count": 5,
   "id": "57f80e04-026b-4cb5-b679-b7bd7fe1b0b3",
   "metadata": {},
   "outputs": [],
   "source": [
    "#Compute and store renamed images\n",
    "imgs = load_images_from_folder(dataset_dir)\n",
    "if not os.path.isdir(output_dir):\n",
    "    os.mkdir(output_dir)\n",
    "for i,img in enumerate(imgs):\n",
    "    cv.imwrite(os.path.join(output_dir,f\"{i:02}.jpg\"),img)"
   ]
  },
  {
   "cell_type": "code",
   "execution_count": null,
   "id": "18063030-e024-4426-9748-512c5dac76ec",
   "metadata": {},
   "outputs": [],
   "source": []
  }
 ],
 "metadata": {
  "kernelspec": {
   "display_name": "Python 3 (ipykernel)",
   "language": "python",
   "name": "python3"
  },
  "language_info": {
   "codemirror_mode": {
    "name": "ipython",
    "version": 3
   },
   "file_extension": ".py",
   "mimetype": "text/x-python",
   "name": "python",
   "nbconvert_exporter": "python",
   "pygments_lexer": "ipython3",
   "version": "3.8.13"
  }
 },
 "nbformat": 4,
 "nbformat_minor": 5
}
