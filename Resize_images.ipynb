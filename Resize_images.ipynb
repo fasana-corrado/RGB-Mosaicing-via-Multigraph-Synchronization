{
 "cells": [
  {
   "cell_type": "code",
   "execution_count": 1,
   "id": "22f55d3e-5331-40cc-83c9-59827880ac84",
   "metadata": {},
   "outputs": [],
   "source": [
    "import cv2 as cv\n",
    "import os\n",
    "import numpy as np\n",
    "import matplotlib.pyplot as plt"
   ]
  },
  {
   "cell_type": "code",
   "execution_count": 2,
   "id": "2349a15c-cddd-42b0-97a1-2524cef0c62a",
   "metadata": {},
   "outputs": [],
   "source": [
    "#directories\n",
    "dataset_dir = 'datasets/small_dataset'\n",
    "output_dir =\"datasets/small_dataset_adj\""
   ]
  },
  {
   "cell_type": "code",
   "execution_count": 3,
   "id": "054e0ec8-86d8-43fc-8545-e0351f2ab13f",
   "metadata": {},
   "outputs": [],
   "source": [
    "def load_images_from_folder(folder):\n",
    "    images = []\n",
    "    for filename in os.listdir(folder):\n",
    "        img = cv.imread(os.path.join(folder,filename))\n",
    "        if img is not None:\n",
    "            images.append(img)\n",
    "    return images"
   ]
  },
  {
   "cell_type": "code",
   "execution_count": 4,
   "id": "57f80e04-026b-4cb5-b679-b7bd7fe1b0b3",
   "metadata": {},
   "outputs": [],
   "source": [
    "imgs = load_images_from_folder(dataset_dir)\n",
    "curr_shape = imgs[0].shape"
   ]
  },
  {
   "cell_type": "code",
   "execution_count": 5,
   "id": "431690ce-dde3-4bd3-98bf-817654d54ae7",
   "metadata": {},
   "outputs": [
    {
     "name": "stdout",
     "output_type": "stream",
     "text": [
      "Current size (height, width, channels):  (1728, 2592, 3)\n"
     ]
    }
   ],
   "source": [
    "print(\"Current size (height, width, channels): \",curr_shape)"
   ]
  },
  {
   "cell_type": "code",
   "execution_count": 6,
   "id": "381bba3a-a6f5-4940-8a1f-c2c875eff7ef",
   "metadata": {},
   "outputs": [
    {
     "name": "stdout",
     "output_type": "stream",
     "text": [
      "Scaling factor:  0.25\n"
     ]
    }
   ],
   "source": [
    "scaling = 1/4\n",
    "print(\"Scaling factor: \",scaling)"
   ]
  },
  {
   "cell_type": "code",
   "execution_count": 7,
   "id": "5368684e-1a5e-4f0f-885d-f823ecb65137",
   "metadata": {},
   "outputs": [
    {
     "name": "stdout",
     "output_type": "stream",
     "text": [
      "Resized Dimensions (height, width):  (432, 648)\n"
     ]
    }
   ],
   "source": [
    "width = int(curr_shape[1] * scaling )\n",
    "height = int(curr_shape[0] * scaling )\n",
    "dim = (width, height)\n",
    " \n",
    "print('Resized Dimensions (height, width): ',dim[::-1])"
   ]
  },
  {
   "cell_type": "code",
   "execution_count": 8,
   "id": "18063030-e024-4426-9748-512c5dac76ec",
   "metadata": {},
   "outputs": [],
   "source": [
    "if not os.path.isdir(output_dir):\n",
    "    os.mkdir(output_dir)\n",
    "for i,img in enumerate(imgs):\n",
    "    cv.imwrite(os.path.join(output_dir,f\"{i:02}.jpg\"),cv.resize(img, dim))"
   ]
  },
  {
   "cell_type": "code",
   "execution_count": null,
   "id": "9e55822e-111d-4f0b-b49a-b4c8642b8994",
   "metadata": {},
   "outputs": [],
   "source": []
  }
 ],
 "metadata": {
  "kernelspec": {
   "display_name": "Python 3 (ipykernel)",
   "language": "python",
   "name": "python3"
  },
  "language_info": {
   "codemirror_mode": {
    "name": "ipython",
    "version": 3
   },
   "file_extension": ".py",
   "mimetype": "text/x-python",
   "name": "python",
   "nbconvert_exporter": "python",
   "pygments_lexer": "ipython3",
   "version": "3.9.11"
  }
 },
 "nbformat": 4,
 "nbformat_minor": 5
}
