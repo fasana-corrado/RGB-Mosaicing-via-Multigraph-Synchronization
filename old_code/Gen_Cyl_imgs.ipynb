{
 "cells": [
  {
   "cell_type": "markdown",
   "id": "e14284e8-a897-4721-b93e-981e9ffa5af0",
   "metadata": {},
   "source": [
    "# Creation of cylindric images"
   ]
  },
  {
   "cell_type": "code",
   "execution_count": 1,
   "id": "10b83f82-1b9b-4f5f-884a-75d8ea32b7c3",
   "metadata": {},
   "outputs": [],
   "source": [
    "import cv2 as cv\n",
    "import os\n",
    "import numpy as np\n",
    "import matplotlib.pyplot as plt"
   ]
  },
  {
   "cell_type": "code",
   "execution_count": 10,
   "id": "7033b57b-c8c8-455b-8e03-0cb17b160fd1",
   "metadata": {},
   "outputs": [],
   "source": [
    "#directories\n",
    "dataset_dir = 'dataset_field'\n",
    "output_dir =\"dataset_field_cyl\""
   ]
  },
  {
   "cell_type": "code",
   "execution_count": 11,
   "id": "942bec16-645d-4ff9-80e4-7117b2ed3be3",
   "metadata": {},
   "outputs": [],
   "source": [
    "def Convert_xy(x, y):\n",
    "    global center, f\n",
    "\n",
    "    xt = ( f * np.tan( (x - center[0]) / f ) ) + center[0]\n",
    "    yt = ( (y - center[1]) / np.cos( (x - center[0]) / f ) ) + center[1]\n",
    "    \n",
    "    return xt, yt"
   ]
  },
  {
   "cell_type": "code",
   "execution_count": 12,
   "id": "7b93569b-b5ba-4082-a3a4-ae10004b14af",
   "metadata": {},
   "outputs": [],
   "source": [
    "def ProjectOntoCylinder(InitialImage):\n",
    "    global w, h, center, f\n",
    "    h, w = InitialImage.shape[:2]\n",
    "    center = [w // 2, h // 2]\n",
    "    f = 1100       # 1100 field; 1000 Sun; 1500 Rainier; 1050 Helens\n",
    "    \n",
    "    # Creating a blank transformed image\n",
    "    TransformedImage = np.zeros(InitialImage.shape, dtype=np.uint8)\n",
    "    \n",
    "    # Storing all coordinates of the transformed image in 2 arrays (x and y coordinates)\n",
    "    AllCoordinates_of_ti =  np.array([np.array([i, j]) for i in range(w) for j in range(h)])\n",
    "    ti_x = AllCoordinates_of_ti[:, 0]\n",
    "    ti_y = AllCoordinates_of_ti[:, 1]\n",
    "    \n",
    "    # Finding corresponding coordinates of the transformed image in the initial image\n",
    "    ii_x, ii_y = Convert_xy(ti_x, ti_y)\n",
    "\n",
    "    # Rounding off the coordinate values to get exact pixel values (top-left corner)\n",
    "    ii_tl_x = ii_x.astype(int)\n",
    "    ii_tl_y = ii_y.astype(int)\n",
    "\n",
    "    # Finding transformed image points whose corresponding \n",
    "    # initial image points lies inside the initial image\n",
    "    GoodIndices = (ii_tl_x >= 0) * (ii_tl_x <= (w-2)) * \\\n",
    "                  (ii_tl_y >= 0) * (ii_tl_y <= (h-2))\n",
    "\n",
    "    # Removing all the outside points from everywhere\n",
    "    ti_x = ti_x[GoodIndices]\n",
    "    ti_y = ti_y[GoodIndices]\n",
    "    \n",
    "    ii_x = ii_x[GoodIndices]\n",
    "    ii_y = ii_y[GoodIndices]\n",
    "\n",
    "    ii_tl_x = ii_tl_x[GoodIndices]\n",
    "    ii_tl_y = ii_tl_y[GoodIndices]\n",
    "\n",
    "    # Bilinear interpolation\n",
    "    dx = ii_x - ii_tl_x\n",
    "    dy = ii_y - ii_tl_y\n",
    "\n",
    "    weight_tl = (1.0 - dx) * (1.0 - dy)\n",
    "    weight_tr = (dx)       * (1.0 - dy)\n",
    "    weight_bl = (1.0 - dx) * (dy)\n",
    "    weight_br = (dx)       * (dy)\n",
    "    \n",
    "    TransformedImage[ti_y, ti_x, :] = ( weight_tl[:, None] * InitialImage[ii_tl_y,     ii_tl_x,     :] ) + \\\n",
    "                                      ( weight_tr[:, None] * InitialImage[ii_tl_y,     ii_tl_x + 1, :] ) + \\\n",
    "                                      ( weight_bl[:, None] * InitialImage[ii_tl_y + 1, ii_tl_x,     :] ) + \\\n",
    "                                      ( weight_br[:, None] * InitialImage[ii_tl_y + 1, ii_tl_x + 1, :] )\n",
    "\n",
    "\n",
    "    # Getting x coorinate to remove black region from right and left in the transformed image\n",
    "    min_x = min(ti_x)\n",
    "\n",
    "    # Cropping out the black region from both sides (using symmetricity)\n",
    "    TransformedImage = TransformedImage[:, min_x : -min_x, :]\n",
    "\n",
    "    return TransformedImage, ti_x-min_x, ti_y"
   ]
  },
  {
   "cell_type": "code",
   "execution_count": 13,
   "id": "1a15b2d3-3114-4344-98a2-b6db0dd6ae08",
   "metadata": {},
   "outputs": [],
   "source": [
    "def load_images_from_folder(folder):\n",
    "    images = []\n",
    "    for filename in os.listdir(folder):\n",
    "        img = cv.imread(os.path.join(folder,filename))\n",
    "        if img is not None:\n",
    "            images.append(img)\n",
    "    return images"
   ]
  },
  {
   "cell_type": "code",
   "execution_count": 14,
   "id": "5245430c-a198-4790-ab58-0d44e9c83122",
   "metadata": {},
   "outputs": [],
   "source": [
    "imgs = load_images_from_folder(dataset_dir)\n",
    "if not os.path.isdir(output_dir):\n",
    "    os.mkdir(output_dir)\n",
    "for i,img in enumerate(imgs):\n",
    "    img_cyl = ProjectOntoCylinder(img)[0]\n",
    "    cv.imwrite(os.path.join(output_dir,f\"{i:02}.jpg\"),img_cyl)"
   ]
  }
 ],
 "metadata": {
  "kernelspec": {
   "display_name": "Python 3 (ipykernel)",
   "language": "python",
   "name": "python3"
  },
  "language_info": {
   "codemirror_mode": {
    "name": "ipython",
    "version": 3
   },
   "file_extension": ".py",
   "mimetype": "text/x-python",
   "name": "python",
   "nbconvert_exporter": "python",
   "pygments_lexer": "ipython3",
   "version": "3.9.10"
  }
 },
 "nbformat": 4,
 "nbformat_minor": 5
}
