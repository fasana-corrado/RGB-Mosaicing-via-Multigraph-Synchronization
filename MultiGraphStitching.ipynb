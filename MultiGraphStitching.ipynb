{
 "cells": [
  {
   "cell_type": "markdown",
   "id": "2870caeb-68c8-4669-98f7-bc71ead80d16",
   "metadata": {},
   "source": [
    "# Stitching multiple images\n",
    "\n",
    "This notebook is used to find a solution to the multi-graph syncronization problem and stitch images together."
   ]
  },
  {
   "cell_type": "code",
   "execution_count": 1,
   "id": "1d8a2b1a-2937-4910-85a3-bbd890ecd9ea",
   "metadata": {},
   "outputs": [],
   "source": [
    "import cv2 as cv\n",
    "import os\n",
    "import shutil\n",
    "import numpy as np\n",
    "import matplotlib.pyplot as plt\n",
    "from matplotlib.pyplot import figure\n",
    "import ipynb.fs.defs.Utils as Utils\n",
    "import ipynb.fs.defs.ImageStitcher as ImageStitcher"
   ]
  },
  {
   "cell_type": "code",
   "execution_count": 6,
   "id": "2712eca5-dd96-4866-a5fc-43711215e220",
   "metadata": {},
   "outputs": [],
   "source": [
    "def multi_graph_stitching(dataset_name,\n",
    "                            imgs,\n",
    "                            T_norm,\n",
    "                            M, \n",
    "                            C,\n",
    "                            idx_ref = 0,\n",
    "                            idxs = None,\n",
    "                            verbose = True,\n",
    "                            save_output = True,\n",
    "                            beautify = True,\n",
    "                            stitching_dir = \"stitched\",\n",
    "                            graph_stitching_dir = \"multi_graph_stitching\",\n",
    "                            warp_shape = [10000,10000] ):\n",
    "    \n",
    "    output_dir = os.path.join(os.path.join(stitching_dir,dataset_name),graph_stitching_dir)\n",
    "    if save_output:\n",
    "        if os.path.isdir(output_dir):   \n",
    "            shutil.rmtree(output_dir)\n",
    "        if not os.path.isdir(output_dir):   \n",
    "            os.makedirs(output_dir)\n",
    "          \n",
    "\n",
    "    S = (np.eye(M.shape[0])-C@np.linalg.pinv(C))@M.transpose()@M\n",
    "    w,v = np.linalg.eig(S)\n",
    "    \n",
    "    w = np.real(w)\n",
    "    v = np.real(v)\n",
    "    d = 3\n",
    "    if C.size == 0:\n",
    "        off = 0\n",
    "    else:\n",
    "        off = np.linalg.matrix_rank(C)\n",
    "        \n",
    "    indx = np.argsort(w)\n",
    "    indxs = np.array([indx]*indx.shape[0])\n",
    "    \n",
    "    w_sort = w[indx]\n",
    "    v_sort = np.take_along_axis(v, indxs, axis=1)\n",
    "    \n",
    "    u_hat = v_sort[:,off:d+off]\n",
    "    \n",
    "    U = Utils.split_states(u_hat)[:len(imgs)] #Get the state of each node\n",
    "\n",
    "    H = Utils.get_homographies_from_states(U, idx_ref)\n",
    "    \n",
    "    stitcher = ImageStitcher.ImageStitcher(imgs)\n",
    "\n",
    "    H, stitch = stitcher.stitch_images(H, idx_ref, T_norm, idxs , beautify=beautify, size = warp_shape) #Stitch all the images\n",
    "    \n",
    "    if save_output:\n",
    "        cv.imwrite(os.path.join(output_dir,\"stitched.jpg\"), cv.cvtColor(stitch,cv.COLOR_RGB2BGR))\n",
    "    \n",
    "    if verbose:\n",
    "        figure(figsize=(40, 40), dpi=80)\n",
    "        plt.imshow(stitch,),plt.show() \n",
    "\n",
    "    return H, stitch"
   ]
  },
  {
   "cell_type": "code",
   "execution_count": null,
   "id": "40c3ef70-8232-4eca-b06e-8e8b1e2e9f90",
   "metadata": {},
   "outputs": [],
   "source": []
  }
 ],
 "metadata": {
  "kernelspec": {
   "display_name": "Python 3 (ipykernel)",
   "language": "python",
   "name": "python3"
  },
  "language_info": {
   "codemirror_mode": {
    "name": "ipython",
    "version": 3
   },
   "file_extension": ".py",
   "mimetype": "text/x-python",
   "name": "python",
   "nbconvert_exporter": "python",
   "pygments_lexer": "ipython3",
   "version": "3.9.12"
  }
 },
 "nbformat": 4,
 "nbformat_minor": 5
}
