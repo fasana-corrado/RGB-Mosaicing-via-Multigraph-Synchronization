{
 "cells": [
  {
   "cell_type": "code",
   "execution_count": 1,
   "id": "3f4e4e19-b084-49c5-a070-251cc48ac9f5",
   "metadata": {},
   "outputs": [],
   "source": [
    "import os\n",
    "import cv2 as cv\n",
    "import numpy as np\n",
    "import ipynb.fs.defs.Utils as Utils\n",
    "import ipynb.fs.defs.FeatureMatching as FeatureMatching\n",
    "import ipynb.fs.defs.GraphBuilding as GraphBuilding\n",
    "import ipynb.fs.defs.BasicStitching as BasicStitching\n",
    "import ipynb.fs.defs.SimpleGraphStitching as SimpleGraphStitching\n",
    "import ipynb.fs.defs.MultiGraphStitching as MultiGraphStitching\n",
    "import ipynb.fs.defs.MultiPatchStitching as MultiPatchStitching\n",
    "import ipynb.fs.defs.Benchmark as Benchmark"
   ]
  },
  {
   "cell_type": "code",
   "execution_count": 2,
   "id": "e7eb8124-81ed-4e59-9fd7-cc77058ca07a",
   "metadata": {},
   "outputs": [],
   "source": [
    "#Directories\n",
    "dataset_name = 'Helens' #Name of the dataset\n",
    "dataset_dir = f'datasets/{dataset_name}' #Directory containing images of the dataset\n",
    "stitching_dir = \"stitched\" #Directory to save stiched images\n",
    "simple_output_dir =\"output_simple\"  #Directory for output of simple graph\n",
    "average_output_dir =\"output_average\" #Directory for output of avg graph\n",
    "multi_output_dir =\"output_multi\" #Directory for output of multi graph\n",
    "results_dir = \"results\" #Directory for output results"
   ]
  },
  {
   "cell_type": "code",
   "execution_count": 3,
   "id": "c9417fdf-94bf-4d79-b230-fcdeff4c990c",
   "metadata": {},
   "outputs": [],
   "source": [
    "#global variables\n",
    "save_output = True #If True save in output all the computed intermediate results\n",
    "save_images = True #If True save the images obtained in stitching procedure\n",
    "verbose = True #If True visualize the results of stitching in the notebook\n",
    "visualize = True #If True visualize benchmark at the end\n",
    "noise_type = Utils.NoiseType.POINTS #Noise type used in the experiments\n",
    "results = list() #List used to store results of different methods"
   ]
  },
  {
   "cell_type": "code",
   "execution_count": 4,
   "id": "25feb5f2-77ac-43ea-aec1-cb8028c763f5",
   "metadata": {},
   "outputs": [],
   "source": [
    "#graph parameters\n",
    "matching_threshold = 0.7 #Threshold used to compute matches\n",
    "number_of_matches = 10 #Number of matches computed (multi-arc cardinality)\n",
    "noise_std = 10 #Amount of noise\n",
    "matches_th = 30 #Threshold used to compute good matches\n",
    "RANSACmaxIters = 2000 #Maximum iterations for RANSAC (default 2000)"
   ]
  },
  {
   "cell_type": "code",
   "execution_count": 5,
   "id": "6c2d7384-c2a9-4d30-b6b8-04e0f4dc1b84",
   "metadata": {},
   "outputs": [],
   "source": [
    "#general stitching parameters\n",
    "idx_ref = None #Index of the reference image (None to use the automatically computed one)\n",
    "idxs = None #Indexes of the images to stitch (None to use all the images of the dataset)\n",
    "beautify = True #If True arrange the procedure to better visualize images\n",
    "warp_shape = [10000,10000] #Shape of the stitched image"
   ]
  },
  {
   "cell_type": "code",
   "execution_count": 6,
   "id": "9cf8315e-ffad-4c25-9918-163735a11a75",
   "metadata": {},
   "outputs": [],
   "source": [
    "#This cell is needed to distinguish if the Main is running indipendently or in a ExperimentalResults run, the try block eventually \n",
    "#overwrites the parameters setting the ones coming from the experimental results, suppresing also all the visualizations\n",
    "try:\n",
    "    dataset_name = dataset_name_bench\n",
    "    noise_type = noise_type_bench\n",
    "    matching_threshold = matching_threshold_bench\n",
    "    number_of_matches = number_of_matches_bench\n",
    "    noise_std = noise_std_bench\n",
    "    matches_th = matches_th_bench\n",
    "    idx_ref = idx_ref_bench\n",
    "    dataset_dir = f'datasets/{dataset_name}'\n",
    "    save_output = False\n",
    "    save_images = False\n",
    "    verbose = False\n",
    "    visualize = False\n",
    "except NameError: _"
   ]
  },
  {
   "cell_type": "code",
   "execution_count": 7,
   "id": "1ad6dfc2-2f78-4501-8af2-e5d6d7aca9a4",
   "metadata": {},
   "outputs": [],
   "source": [
    "#basic stitching parameters\n",
    "basic_stitching_dir = \"basic_stitching\"\n",
    "#simple graph stitching parameters\n",
    "simple_graph_stitching_dir = \"simple_graph\"\n",
    "#simple graph stitching parameters\n",
    "edge_averaging_stitching_dir = \"edge_averaging\"\n",
    "#multigraph stitching parameters\n",
    "multi_graph_stitching_dir = \"multi_graph\"\n",
    "#multipatch stitching parameters\n",
    "multi_patch_stitching_dir = \"multi_patch\"\n",
    "#edge averaging patch stitching parameters\n",
    "average_patch_stitching_dir = \"average_patch\""
   ]
  },
  {
   "cell_type": "code",
   "execution_count": 8,
   "id": "d7e81565-9e6c-4bad-b539-a19911055e0d",
   "metadata": {},
   "outputs": [],
   "source": [
    "#Load images from the folder\n",
    "imgs = Utils.load_images_from_folder(dataset_dir)"
   ]
  },
  {
   "cell_type": "code",
   "execution_count": 9,
   "id": "e3a0a35a-9ae7-4697-a943-a50875f2cede",
   "metadata": {},
   "outputs": [],
   "source": [
    "#compute normalization matrices\n",
    "T_norm = Utils.get_normalization_matrix(imgs)"
   ]
  },
  {
   "cell_type": "code",
   "execution_count": null,
   "id": "51ec2563-9fee-4e3c-bb73-797b6f2ed0a8",
   "metadata": {},
   "outputs": [],
   "source": [
    "#Compute a dict containing all the matches and the matrix containing the number of matches to be used as weights\n",
    "matches_dict, weight_matrix = FeatureMatching.get_feature_matches(dataset_name,\n",
    "            imgs,\n",
    "            T_norm,\n",
    "            matching_threshold = matching_threshold,\n",
    "            number_of_matches = number_of_matches,\n",
    "            noise_std = noise_std,\n",
    "            matches_th = matches_th,\n",
    "            RANSACmaxIters = RANSACmaxIters,\n",
    "            save_output = save_output,\n",
    "            save_images = save_images,\n",
    "            output_dir = simple_output_dir,\n",
    "            results_dir = results_dir,\n",
    "            noise_type = noise_type,\n",
    "            verbose = verbose\n",
    "           )"
   ]
  },
  {
   "cell_type": "code",
   "execution_count": null,
   "id": "91256fee-c399-4df2-afc7-01c09537f7e3",
   "metadata": {},
   "outputs": [],
   "source": [
    "# Compute the matrices containing the homographies (M,Z) with other informations for synchronization and the adjacency matrix using\n",
    "# a simple graph\n",
    "M, Z, adj_matrix = GraphBuilding.build_simple_graph_matrices(dataset_name,\n",
    "            imgs,\n",
    "            matches_dict,\n",
    "            output_dir = simple_output_dir,\n",
    "            verbose = verbose,\n",
    "            save_output = save_output\n",
    "           )\n",
    "\n",
    "# Compute the matrices containing the homographies (M,Z) with other informations for synchronization and the adjacency matrix using\n",
    "# an edge-avering graph\n",
    "M_average, Z_average, adj_matrix_average = GraphBuilding.build_edge_averaging_matrices(dataset_name, #Name of the dataset to be used\n",
    "            imgs,\n",
    "            matches_dict,\n",
    "            output_dir = average_output_dir,\n",
    "            verbose = verbose,\n",
    "            save_output = save_output\n",
    "           )\n",
    "# Compute the matrices containing the homographies (M,Z) with other informations for synchronization and the adjacency matrix using\n",
    "# a multi-graph\n",
    "M_multi, Z_multi, C_multi, adj_matrix_multi = GraphBuilding.build_multi_graph_matrices(dataset_name, #Name of the dataset to be used\n",
    "            imgs,\n",
    "            matches_dict,\n",
    "            output_dir = multi_output_dir,\n",
    "            verbose = verbose,\n",
    "            save_output = save_output\n",
    "           )"
   ]
  },
  {
   "cell_type": "code",
   "execution_count": null,
   "id": "136df212-ec91-4b51-a00b-078812cfa20d",
   "metadata": {},
   "outputs": [],
   "source": [
    "#If the index of the reference image is not set it is computed using adjacency matrix\n",
    "if idx_ref is None:\n",
    "    idx_ref = Utils.get_reference_node(adj_matrix)"
   ]
  },
  {
   "cell_type": "code",
   "execution_count": null,
   "id": "cd9f222d-5cf4-4de5-98a3-2f1f91826478",
   "metadata": {},
   "outputs": [],
   "source": [
    "#Compute homographies and the image obtained from stitching using basic stitching\n",
    "H_basic, basic_stitched_image = BasicStitching.basic_stitching(dataset_name,\n",
    "                            imgs,\n",
    "                            T_norm,\n",
    "                            Z,\n",
    "                            adj_matrix,\n",
    "                            weight_matrix,\n",
    "                            idx_ref = idx_ref,\n",
    "                            verbose = verbose,\n",
    "                            beautify = beautify,\n",
    "                            save_output = save_output,\n",
    "                            stitching_dir = stitching_dir,\n",
    "                            basic_stitching_dir = basic_stitching_dir,\n",
    "                            warp_shape = warp_shape\n",
    "                            )\n",
    "results.append({\"name\":\"Basic Stitching\",\"H\":H_basic,\"img\":basic_stitched_image}) #Append the results into the list"
   ]
  },
  {
   "cell_type": "code",
   "execution_count": null,
   "id": "7fd4d05e-97ef-4348-ac6d-e9af81fab2e7",
   "metadata": {},
   "outputs": [],
   "source": [
    "#Compute homographies and the image obtained from stitching using simple graph stitching\n",
    "H_simple_graph, simple_graph_stitched_image, _ = SimpleGraphStitching.simple_graph_stitching(dataset_name,\n",
    "                            imgs,\n",
    "                            T_norm,\n",
    "                            M,\n",
    "                            idx_ref = idx_ref,\n",
    "                            idxs = idxs,\n",
    "                            verbose = verbose,\n",
    "                            save_output = save_output,\n",
    "                            beautify = beautify,\n",
    "                            stitching_dir = stitching_dir,\n",
    "                            graph_stitching_dir = simple_graph_stitching_dir,\n",
    "                            warp_shape = warp_shape )\n",
    "results.append({\"name\":\"Simple Graph Stitching\",\"H\":H_simple_graph,\"img\":simple_graph_stitched_image}) #Append the results into the list"
   ]
  },
  {
   "cell_type": "code",
   "execution_count": null,
   "id": "bd11b968-1ed7-40ac-9b64-4a6928d8bfca",
   "metadata": {},
   "outputs": [],
   "source": [
    "#Compute homographies and the image obtained from stitching using multi graph stitching with matrices from edge averaging\n",
    "H_average, edge_averaging_stitched_image, _ = SimpleGraphStitching.simple_graph_stitching(dataset_name,\n",
    "                            imgs,\n",
    "                            T_norm,\n",
    "                            M_average, \n",
    "                            idx_ref = idx_ref,\n",
    "                            idxs = idxs,\n",
    "                            verbose = verbose,\n",
    "                            save_output = save_output,\n",
    "                            beautify = beautify,\n",
    "                            stitching_dir = stitching_dir,\n",
    "                            graph_stitching_dir = edge_averaging_stitching_dir,\n",
    "                            warp_shape = warp_shape )\n",
    "results.append({\"name\":\"Edge Averaging Stitching\",\"H\":H_average,\"img\":edge_averaging_stitched_image}) #Append the results into the list"
   ]
  },
  {
   "cell_type": "code",
   "execution_count": null,
   "id": "407a9fc2-96f0-4d56-bb1b-5f03d00ca20f",
   "metadata": {},
   "outputs": [],
   "source": [
    "#Compute homographies and the image obtained from stitching using multi graph stitching\n",
    "H_multi_graph, multi_graph_stitched_image, _ = MultiGraphStitching.multi_graph_stitching(dataset_name,\n",
    "                            imgs,\n",
    "                            T_norm,\n",
    "                            M_multi, \n",
    "                            C_multi,\n",
    "                            idx_ref = idx_ref,\n",
    "                            idxs = idxs,\n",
    "                            verbose = verbose,\n",
    "                            save_output = save_output,\n",
    "                            beautify = beautify,\n",
    "                            stitching_dir = stitching_dir,\n",
    "                            graph_stitching_dir = multi_graph_stitching_dir,\n",
    "                            warp_shape = warp_shape )\n",
    "results.append({\"name\":\"Multi-Graph Stitching\",\"H\":H_multi_graph,\"img\":multi_graph_stitched_image}) #Append the results into the list"
   ]
  },
  {
   "cell_type": "code",
   "execution_count": null,
   "id": "d827b08a-b3fa-468c-ad80-ec9451b57b3c",
   "metadata": {},
   "outputs": [],
   "source": [
    "#Compute homographies and the image obtained from stitching using multi patch stitching\n",
    "H_patch_graph, multi_patch_stitched_image = MultiPatchStitching.multi_patch_stitching(dataset_name,\n",
    "                            imgs,\n",
    "                            T_norm,\n",
    "                            Z,\n",
    "                            adj_matrix,\n",
    "                            weight_matrix,\n",
    "                            verbose = verbose,\n",
    "                            idx_ref = idx_ref,\n",
    "                            save_output = save_output,\n",
    "                            beautify = beautify,\n",
    "                            stitching_dir = stitching_dir,\n",
    "                            graph_stitching_dir = multi_patch_stitching_dir,\n",
    "                            warp_shape = warp_shape )\n",
    "results.append({\"name\":\"Multi-Patch Stitching\",\"H\":H_patch_graph,\"img\":multi_patch_stitched_image}) #Append the results into the list"
   ]
  },
  {
   "cell_type": "code",
   "execution_count": null,
   "id": "70b60684-4dbc-4ab3-81a8-5f58c65b03d4",
   "metadata": {},
   "outputs": [],
   "source": [
    "#Compute homographies and the image obtained from stitching using multi patch stitching with edge averaging\n",
    "H_avg_patch_graph, average_patch_stitched_image = MultiPatchStitching.average_patch_stitching(dataset_name,\n",
    "                            imgs,\n",
    "                            T_norm,\n",
    "                            Z,\n",
    "                            adj_matrix,\n",
    "                            weight_matrix,\n",
    "                            verbose = verbose,\n",
    "                            idx_ref = idx_ref,\n",
    "                            save_output = save_output,\n",
    "                            beautify = beautify,\n",
    "                            stitching_dir = stitching_dir,\n",
    "                            graph_stitching_dir = average_patch_stitching_dir,\n",
    "                            warp_shape = warp_shape )\n",
    "results.append({\"name\":\"Multi-Patch Edge Averaging Stitching\",\"H\":H_avg_patch_graph,\"img\":average_patch_stitched_image}) #Append the results into the list"
   ]
  },
  {
   "cell_type": "markdown",
   "id": "d9b5e872-70b2-4b0c-a00e-882e819bbbad",
   "metadata": {},
   "source": [
    "## Benchmark"
   ]
  },
  {
   "cell_type": "code",
   "execution_count": null,
   "id": "19660f27-83f2-4ecd-864c-bd37110b8968",
   "metadata": {},
   "outputs": [],
   "source": [
    "#The benchmark is run only if nosie is affecting the images, otherwise it will be meaningless\n",
    "if noise_type != Utils.NoiseType.NO_NOISE:\n",
    "    Benchmark.run_benchmark(dataset_name,\n",
    "                                imgs,\n",
    "                                T_norm = T_norm,\n",
    "                                matching_threshold = matching_threshold,\n",
    "                                matches_th = matches_th,\n",
    "                                idx_ref = idx_ref,\n",
    "                                results = results,\n",
    "                                number_of_matches = number_of_matches,\n",
    "                                noise_std = noise_std,\n",
    "                                noise_type = noise_type,\n",
    "                                visualize = visualize)"
   ]
  },
  {
   "cell_type": "code",
   "execution_count": null,
   "id": "9111a57f-3a52-44c9-9871-e978f2d887ae",
   "metadata": {},
   "outputs": [],
   "source": []
  }
 ],
 "metadata": {
  "kernelspec": {
   "display_name": "Python 3 (ipykernel)",
   "language": "python",
   "name": "python3"
  },
  "language_info": {
   "codemirror_mode": {
    "name": "ipython",
    "version": 3
   },
   "file_extension": ".py",
   "mimetype": "text/x-python",
   "name": "python",
   "nbconvert_exporter": "python",
   "pygments_lexer": "ipython3",
   "version": "3.8.13"
  }
 },
 "nbformat": 4,
 "nbformat_minor": 5
}
