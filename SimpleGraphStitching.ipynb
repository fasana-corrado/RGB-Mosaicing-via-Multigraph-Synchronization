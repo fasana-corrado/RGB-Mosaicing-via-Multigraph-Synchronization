{
 "cells": [
  {
   "cell_type": "markdown",
   "id": "2870caeb-68c8-4669-98f7-bc71ead80d16",
   "metadata": {},
   "source": [
    "# Stitching multiple images\n",
    "\n",
    "This notebook is used to find a solution to the multi-graph syncronization problem and stitch images together."
   ]
  },
  {
   "cell_type": "code",
   "execution_count": 1,
   "id": "1d8a2b1a-2937-4910-85a3-bbd890ecd9ea",
   "metadata": {},
   "outputs": [],
   "source": [
    "import cv2 as cv\n",
    "import os\n",
    "import shutil\n",
    "import numpy as np\n",
    "import matplotlib.pyplot as plt\n",
    "from matplotlib.pyplot import figure\n",
    "import ipynb.fs.defs.Utils as Utils"
   ]
  },
  {
   "cell_type": "code",
   "execution_count": 2,
   "id": "2712eca5-dd96-4866-a5fc-43711215e220",
   "metadata": {},
   "outputs": [],
   "source": [
    "def simple_graph_stitching(dataset_name,\n",
    "                            imgs,\n",
    "                            T_norm,\n",
    "                            M, \n",
    "                            idx_ref = 0,\n",
    "                            idxs = None,\n",
    "                            verbose = True,\n",
    "                            save_output = True,\n",
    "                            beautify = True,\n",
    "                            stitching_dir = \"stitched\",\n",
    "                            graph_stitching_dir = \"simple_graph_stitching\",\n",
    "                            warp_shape = [10000,10000] ):\n",
    "    \n",
    "    output_dir = os.path.join(os.path.join(stitching_dir,dataset_name),graph_stitching_dir)\n",
    "    if save_output:\n",
    "        if os.path.isdir(output_dir):   \n",
    "            shutil.rmtree(output_dir)\n",
    "        if not os.path.isdir(output_dir):   \n",
    "            os.makedirs(output_dir)\n",
    "            \n",
    "    #u: left eigenvectors\n",
    "    #d: eigenvalues\n",
    "    #vh: right eigenvectors\n",
    "    u,d,vh = np.linalg.svd(M) #Application of SVD to the M matrix\n",
    "    v = vh.transpose() #Transpose matrix of right eigenvectors\n",
    "    # Find the three right singular vectors associated\n",
    "    # with the 3 smallest singular value (so the last 3 columns)\n",
    "    u_hat = v[:,[-1,-2,-3]]\n",
    "    \n",
    "    U = Utils.split_states(u_hat) #Get the state of each node\n",
    "    \n",
    "    stitcher = Utils.ImageStitcher(imgs)\n",
    "    \n",
    "    H = stitcher.get_homographies_from_states(U, idx_ref)\n",
    "\n",
    "    _,stitch = stitcher.stitch_images(H, idx_ref, T_norm, idxs , beautify=beautify, size = warp_shape) #Stitch all the images\n",
    "    \n",
    "    if save_output:\n",
    "        cv.imwrite(os.path.join(output_dir,\"stitched.jpg\"), cv.cvtColor(stitch,cv.COLOR_RGB2BGR))\n",
    "        \n",
    "    figure(figsize=(40, 40), dpi=80)\n",
    "    plt.imshow(stitch,),plt.show() \n",
    "    \n",
    "    return H, stitch"
   ]
  },
  {
   "cell_type": "code",
   "execution_count": null,
   "id": "40c3ef70-8232-4eca-b06e-8e8b1e2e9f90",
   "metadata": {},
   "outputs": [],
   "source": []
  }
 ],
 "metadata": {
  "kernelspec": {
   "display_name": "Python 3",
   "language": "python",
   "name": "python3"
  },
  "language_info": {
   "codemirror_mode": {
    "name": "ipython",
    "version": 3
   },
   "file_extension": ".py",
   "mimetype": "text/x-python",
   "name": "python",
   "nbconvert_exporter": "python",
   "pygments_lexer": "ipython3",
   "version": "3.8.8"
  }
 },
 "nbformat": 4,
 "nbformat_minor": 5
}
