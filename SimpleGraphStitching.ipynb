{
 "cells": [
  {
   "cell_type": "markdown",
   "id": "2870caeb-68c8-4669-98f7-bc71ead80d16",
   "metadata": {},
   "source": [
    "# Simple Graph-Synchronization Stitching\n",
    "\n",
    "This notebook is used to perform stitching exploiting the graph synchronization method."
   ]
  },
  {
   "cell_type": "markdown",
   "id": "02c786be-6a20-49ec-a73b-0e69d9e6aeef",
   "metadata": {},
   "source": [
    "## Importing libraries"
   ]
  },
  {
   "cell_type": "code",
   "execution_count": 1,
   "id": "1d8a2b1a-2937-4910-85a3-bbd890ecd9ea",
   "metadata": {},
   "outputs": [],
   "source": [
    "import cv2 as cv\n",
    "import os\n",
    "import shutil\n",
    "import numpy as np\n",
    "import matplotlib.pyplot as plt\n",
    "from matplotlib.pyplot import figure\n",
    "import ipynb.fs.defs.Utils as Utils\n",
    "import ipynb.fs.defs.ImageStitcher as ImageStitcher"
   ]
  },
  {
   "cell_type": "markdown",
   "id": "fe6af487-6fd6-4ab6-815d-0c747f7e8064",
   "metadata": {},
   "source": [
    "## Functions definition"
   ]
  },
  {
   "cell_type": "code",
   "execution_count": 2,
   "id": "2712eca5-dd96-4866-a5fc-43711215e220",
   "metadata": {},
   "outputs": [],
   "source": [
    "#This function allows to perform simple graph-synchronization stitching\n",
    "def simple_graph_stitching(dataset_name, #Name of the dataset to be used\n",
    "                            imgs, #Images to be stitched\n",
    "                            T_norm, #Normalization matrix\n",
    "                            M, #Matrix containing the homographies between the images (TODO)\n",
    "                            idx_ref = 0, #Index of the reference image\n",
    "                            idxs = None, #Indexes of the subset of images to be stitched\n",
    "                            verbose = True, #If True allows to print intermediate results\n",
    "                            save_output = True, #If True allows to save the output\n",
    "                            beautify = True, #If True allows to print the stitched image in a better way\n",
    "                            stitching_dir = \"stitched\", #Directory where to save the results\n",
    "                            graph_stitching_dir = \"simple_graph_stitching\", #Directory where to save the obtained graph\n",
    "                            warp_shape = [10000,10000] #Shape of the stitched image\n",
    "                          ):\n",
    "    \n",
    "    #Output directory\n",
    "    output_dir = os.path.join(os.path.join(stitching_dir,dataset_name),graph_stitching_dir)\n",
    "    #Check whether the directory exists and create it\n",
    "    if save_output:\n",
    "        if os.path.isdir(output_dir):   \n",
    "            shutil.rmtree(output_dir)\n",
    "        if not os.path.isdir(output_dir):   \n",
    "            os.makedirs(output_dir)\n",
    "            \n",
    "    #u: left eigenvectors\n",
    "    #d: eigenvalues\n",
    "    #vh: right eigenvectors\n",
    "    u,d,vh = np.linalg.svd(M) #Application of SVD to the M matrix\n",
    "    v = vh.transpose() #Transpose matrix of right eigenvectors\n",
    "    \n",
    "    # Find the three right singular vectors associated with the 3 smallest singular values (so the last 3 columns)\n",
    "    u_hat = v[:,[-1,-2,-3]]\n",
    "    \n",
    "    #Get the state of each node\n",
    "    U = Utils.split_states(u_hat)\n",
    "    \n",
    "    #Retrieve the homographies w.r.t. the reference image\n",
    "    H = Utils.get_homographies_from_states(U, idx_ref)\n",
    "    \n",
    "    #Stitch images together\n",
    "    stitcher = ImageStitcher.ImageStitcher(imgs)\n",
    "    H, stitch = stitcher.stitch_images(H, idx_ref, T_norm, idxs , beautify=beautify, size = warp_shape) #Stitch all the images\n",
    "    \n",
    "    #Save and print output if required\n",
    "    if save_output:\n",
    "        cv.imwrite(os.path.join(output_dir,\"stitched.jpg\"), cv.cvtColor(stitch,cv.COLOR_RGB2BGR))\n",
    "    \n",
    "    if verbose:\n",
    "        figure(figsize=(40, 40), dpi=80)\n",
    "        plt.imshow(stitch,),plt.show() \n",
    "    \n",
    "    return H, stitch"
   ]
  }
 ],
 "metadata": {
  "kernelspec": {
   "display_name": "Python 3 (ipykernel)",
   "language": "python",
   "name": "python3"
  },
  "language_info": {
   "codemirror_mode": {
    "name": "ipython",
    "version": 3
   },
   "file_extension": ".py",
   "mimetype": "text/x-python",
   "name": "python",
   "nbconvert_exporter": "python",
   "pygments_lexer": "ipython3",
   "version": "3.9.8"
  }
 },
 "nbformat": 4,
 "nbformat_minor": 5
}
