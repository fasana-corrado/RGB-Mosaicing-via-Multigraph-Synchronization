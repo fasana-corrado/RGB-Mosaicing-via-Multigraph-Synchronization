{
 "cells": [
  {
   "cell_type": "code",
   "execution_count": 1,
   "id": "4e959deb-4537-4a0b-90d0-b6ced825504f",
   "metadata": {},
   "outputs": [],
   "source": [
    "import os\n",
    "import cv2 as cv\n",
    "import numpy as np"
   ]
  },
  {
   "cell_type": "code",
   "execution_count": 2,
   "id": "4c39b373-0b4e-4cef-bc64-53c1283c9e92",
   "metadata": {},
   "outputs": [
    {
     "data": {
      "text/plain": [
       "[1, 5, 10, 15, 20, 25, 30]"
      ]
     },
     "execution_count": 2,
     "metadata": {},
     "output_type": "execute_result"
    }
   ],
   "source": [
    "number_of_matches_values = [1] + list(range(5,31,5))\n",
    "number_of_matches_values"
   ]
  },
  {
   "cell_type": "code",
   "execution_count": 3,
   "id": "66355288-57d3-492c-8890-56eb349fee57",
   "metadata": {},
   "outputs": [
    {
     "data": {
      "text/plain": [
       "array([0.  , 0.04, 0.08, 0.12, 0.16, 0.2 , 0.24])"
      ]
     },
     "execution_count": 3,
     "metadata": {},
     "output_type": "execute_result"
    }
   ],
   "source": [
    "noise_std_values = np.arange(0.0, 0.25, 0.04)\n",
    "noise_std_values"
   ]
  },
  {
   "cell_type": "code",
   "execution_count": 4,
   "id": "ff576c55-fe3b-45f6-9915-88595edcdcfe",
   "metadata": {},
   "outputs": [
    {
     "name": "stdout",
     "output_type": "stream",
     "text": [
      "Executing: m=1 std=0.0\n",
      "Executing: m=1 std=0.04\n",
      "Executing: m=1 std=0.08\n",
      "Executing: m=1 std=0.12\n",
      "Executing: m=1 std=0.16\n",
      "Executing: m=1 std=0.2\n",
      "Executing: m=1 std=0.24\n",
      "Executing: m=5 std=0.0\n",
      "Executing: m=5 std=0.04\n",
      "Executing: m=5 std=0.08\n",
      "Executing: m=5 std=0.12\n",
      "Executing: m=5 std=0.16\n",
      "Executing: m=5 std=0.2\n",
      "Executing: m=5 std=0.24\n",
      "Executing: m=10 std=0.0\n",
      "Executing: m=10 std=0.04\n",
      "Executing: m=10 std=0.08\n",
      "Executing: m=10 std=0.12\n",
      "Executing: m=10 std=0.16\n",
      "Executing: m=10 std=0.2\n",
      "Executing: m=10 std=0.24\n",
      "Executing: m=15 std=0.0\n",
      "Executing: m=15 std=0.04\n",
      "Executing: m=15 std=0.08\n",
      "Executing: m=15 std=0.12\n",
      "Executing: m=15 std=0.16\n",
      "Executing: m=15 std=0.2\n",
      "Executing: m=15 std=0.24\n",
      "Executing: m=20 std=0.0\n",
      "Executing: m=20 std=0.04\n",
      "Executing: m=20 std=0.08\n",
      "Executing: m=20 std=0.12\n",
      "Executing: m=20 std=0.16\n",
      "Executing: m=20 std=0.2\n",
      "Executing: m=20 std=0.24\n",
      "Executing: m=25 std=0.0\n",
      "Executing: m=25 std=0.04\n",
      "Executing: m=25 std=0.08\n",
      "Executing: m=25 std=0.12\n",
      "Executing: m=25 std=0.16\n",
      "Executing: m=25 std=0.2\n",
      "Executing: m=25 std=0.24\n",
      "Executing: m=30 std=0.0\n",
      "Executing: m=30 std=0.04\n",
      "Executing: m=30 std=0.08\n",
      "Executing: m=30 std=0.12\n",
      "Executing: m=30 std=0.16\n",
      "Executing: m=30 std=0.2\n",
      "Executing: m=30 std=0.24\n"
     ]
    }
   ],
   "source": [
    "for number_of_matches in number_of_matches_values:\n",
    "    for noise_std in noise_std_values:\n",
    "        print(f\"Executing: m={number_of_matches} std={noise_std}\")\n",
    "        %run MainExperiment.ipynb"
   ]
  },
  {
   "cell_type": "code",
   "execution_count": null,
   "id": "58ed5a26-8949-4647-b4db-53cbdf24b0d2",
   "metadata": {},
   "outputs": [],
   "source": []
  }
 ],
 "metadata": {
  "kernelspec": {
   "display_name": "Python 3 (ipykernel)",
   "language": "python",
   "name": "python3"
  },
  "language_info": {
   "codemirror_mode": {
    "name": "ipython",
    "version": 3
   },
   "file_extension": ".py",
   "mimetype": "text/x-python",
   "name": "python",
   "nbconvert_exporter": "python",
   "pygments_lexer": "ipython3",
   "version": "3.9.12"
  }
 },
 "nbformat": 4,
 "nbformat_minor": 5
}
