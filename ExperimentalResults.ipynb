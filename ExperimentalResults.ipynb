{
 "cells": [
  {
   "cell_type": "code",
   "execution_count": null,
   "id": "f42a0f11-d927-4f85-89c8-2f93eca8b2a8",
   "metadata": {},
   "outputs": [],
   "source": [
    "import os\n",
    "import cv2 as cv\n",
    "import numpy as np\n",
    "import ipynb.fs.defs.Utils as Utils"
   ]
  },
  {
   "cell_type": "code",
   "execution_count": null,
   "id": "a02467f7-4bc9-40ee-9821-1fecac87b6ad",
   "metadata": {},
   "outputs": [],
   "source": [
    "dataset_name_bench = 'sun' #Name of the dataset to use to run experiments\n",
    "noise_type_bench = Utils.NoiseType.HOMOGRAPHY #Type of noise to apply for experiments (Homography/Point)\n",
    "matching_threshold_bench = 0.7 #Threshold used to compute matches\n",
    "matches_th_bench = 30 #Threshold used to compute good matches\n",
    "idx_ref_bench = None #Index of the reference image (None to use the automatically computed one)\n",
    "number_of_experiments = 50 #Number of experiments to run in every setting"
   ]
  },
  {
   "cell_type": "code",
   "execution_count": null,
   "id": "806a4939-726d-4f9c-beb1-a68fd03a6e1b",
   "metadata": {},
   "outputs": [],
   "source": [
    "number_of_matches_values = [1]+list(range(5,31,5)) #Number of matches (multi-arc cardinalities) to include in the experiments\n",
    "number_of_matches_values"
   ]
  },
  {
   "cell_type": "code",
   "execution_count": null,
   "id": "127594b8-df77-40f9-accb-d1f3fd80e671",
   "metadata": {},
   "outputs": [],
   "source": [
    "#Amount of noise values to include in the experiments\n",
    "if noise_type_bench == Utils.NoiseType.POINTS:\n",
    "    noise_std_values = np.arange(1, 7, 1) # for NoiseType.POINTS\n",
    "    noise_std_values = np.around(noise_std_values,0)\n",
    "else:\n",
    "    noise_std_values = np.arange(0.01, 0.25, 0.04) # for NoiseType.HOMOGRAPHY\n",
    "    noise_std_values = np.around(noise_std_values,2)\n",
    "noise_std_values"
   ]
  },
  {
   "cell_type": "code",
   "execution_count": null,
   "id": "439b813a-bb69-4a3c-8690-476bb68ae3d5",
   "metadata": {},
   "outputs": [],
   "source": [
    "#Run \"number_of_experiment\" time the experiments for every combination of number_of_matches and noise_std\n",
    "for number_of_matches_bench in number_of_matches_values:\n",
    "    for noise_std_bench in noise_std_values:\n",
    "        for n in range (number_of_experiments):\n",
    "            print(f\"Executing: m={number_of_matches_bench} std={noise_std_bench} for the experiment number {n}\") #Log \n",
    "            %run Main.ipynb #Run Main file containing all the application logic"
   ]
  },
  {
   "cell_type": "code",
   "execution_count": null,
   "id": "be5baa7b-876a-4876-8f4a-0fbb08c39303",
   "metadata": {},
   "outputs": [],
   "source": []
  }
 ],
 "metadata": {
  "kernelspec": {
   "display_name": "Python 3 (ipykernel)",
   "language": "python",
   "name": "python3"
  },
  "language_info": {
   "codemirror_mode": {
    "name": "ipython",
    "version": 3
   },
   "file_extension": ".py",
   "mimetype": "text/x-python",
   "name": "python",
   "nbconvert_exporter": "python",
   "pygments_lexer": "ipython3",
   "version": "3.9.12"
  }
 },
 "nbformat": 4,
 "nbformat_minor": 5
}
