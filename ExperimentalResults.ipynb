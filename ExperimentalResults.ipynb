{
 "cells": [
  {
   "cell_type": "code",
   "execution_count": 1,
   "id": "4e959deb-4537-4a0b-90d0-b6ced825504f",
   "metadata": {},
   "outputs": [],
   "source": [
    "import os\n",
    "import cv2 as cv\n",
    "import numpy as np\n",
    "import ipynb.fs.defs.Utils as Utils"
   ]
  },
  {
   "cell_type": "code",
   "execution_count": 2,
   "id": "7654f61f-fceb-45a0-8585-fc51f7ecf631",
   "metadata": {},
   "outputs": [],
   "source": [
    "dataset_name_bench = 'sun'\n",
    "noise_type_bench = Utils.NoiseType.POINTS\n",
    "matching_threshold_bench = 0.7\n",
    "matches_th_bench = 30\n",
    "idx_ref_bench = None\n",
    "number_of_experiments = 50"
   ]
  },
  {
   "cell_type": "code",
   "execution_count": 3,
   "id": "4c39b373-0b4e-4cef-bc64-53c1283c9e92",
   "metadata": {},
   "outputs": [
    {
     "data": {
      "text/plain": [
       "[1, 5, 10, 15, 20, 25, 30]"
      ]
     },
     "execution_count": 3,
     "metadata": {},
     "output_type": "execute_result"
    }
   ],
   "source": [
    "number_of_matches_values = [1] + list(range(5,31,5))\n",
    "number_of_matches_values"
   ]
  },
  {
   "cell_type": "code",
   "execution_count": 4,
   "id": "66355288-57d3-492c-8890-56eb349fee57",
   "metadata": {},
   "outputs": [
    {
     "data": {
      "text/plain": [
       "array([1, 2, 3, 4, 5, 6])"
      ]
     },
     "execution_count": 4,
     "metadata": {},
     "output_type": "execute_result"
    }
   ],
   "source": [
    "if noise_type_bench == Utils.NoiseType.POINTS:\n",
    "    noise_std_values = np.arange(1, 7, 1) # for NoiseType.POINTS\n",
    "    noise_std_values = np.around(noise_std_values,0)\n",
    "else:\n",
    "    noise_std_values = np.arange(0.01, 0.25, 0.04) # for NoiseType.HOMOGRAPHY\n",
    "    noise_std_values = np.around(noise_std_values,2)\n",
    "noise_std_values"
   ]
  },
  {
   "cell_type": "code",
   "execution_count": null,
   "id": "ff576c55-fe3b-45f6-9915-88595edcdcfe",
   "metadata": {},
   "outputs": [
    {
     "name": "stdout",
     "output_type": "stream",
     "text": [
      "Executing: m=1 std=1 for the experiment number 0\n"
     ]
    }
   ],
   "source": [
    "for number_of_matches_bench in number_of_matches_values:\n",
    "    for noise_std_bench in noise_std_values:\n",
    "        for n in range (number_of_experiments):\n",
    "            print(f\"Executing: m={number_of_matches_bench} std={noise_std_bench} for the experiment number {n}\")\n",
    "            %run Main.ipynb"
   ]
  }
 ],
 "metadata": {
  "kernelspec": {
   "display_name": "Python 3 (ipykernel)",
   "language": "python",
   "name": "python3"
  },
  "language_info": {
   "codemirror_mode": {
    "name": "ipython",
    "version": 3
   },
   "file_extension": ".py",
   "mimetype": "text/x-python",
   "name": "python",
   "nbconvert_exporter": "python",
   "pygments_lexer": "ipython3",
   "version": "3.9.8"
  }
 },
 "nbformat": 4,
 "nbformat_minor": 5
}
