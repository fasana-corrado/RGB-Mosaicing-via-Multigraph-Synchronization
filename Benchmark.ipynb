{
 "cells": [
  {
   "cell_type": "code",
   "execution_count": 1,
   "id": "7a08df64-82ce-4554-a5f3-d64e097ee089",
   "metadata": {},
   "outputs": [],
   "source": [
    "import cv2\n",
    "import os\n",
    "from math import ceil\n",
    "import numpy as np\n",
    "import pandas as pd\n",
    "import ipywidgets as widgets\n",
    "import matplotlib.pyplot as plt\n",
    "from matplotlib.pyplot import figure\n",
    "import ipynb.fs.defs.FeatureMatching as FeatureMatching\n",
    "import ipynb.fs.defs.GraphBuilding as GraphBuilding\n",
    "import ipynb.fs.defs.SimpleGraphStitching as SimpleGraphStitching\n",
    "import ipynb.fs.defs.Utils as Utils\n",
    "from IPython.display import display\n",
    "import IPython"
   ]
  },
  {
   "cell_type": "code",
   "execution_count": 2,
   "id": "b51a0ac9-d52f-453f-90f4-d0866a2ffc3c",
   "metadata": {},
   "outputs": [],
   "source": [
    "BENCHMARK_DIR = \"benchmark\"\n",
    "FILENAME = \"results.csv\"\n",
    "INDEX = [\"number_of_matches\", \"noise_std\"]"
   ]
  },
  {
   "cell_type": "code",
   "execution_count": 3,
   "id": "79fa6a11-0972-4806-9727-3cd8ddb90700",
   "metadata": {},
   "outputs": [],
   "source": [
    "def compute_error(H_gt, H):\n",
    "    return np.linalg.norm(np.eye(3)-H_gt@np.linalg.inv(H))"
   ]
  },
  {
   "cell_type": "code",
   "execution_count": 4,
   "id": "88072b62-fb17-476e-9ffe-fd615d061dbc",
   "metadata": {},
   "outputs": [],
   "source": [
    "def compute_avg_error(H_gt, H):\n",
    "    return np.mean([compute_error(H_gt_node, H_node) for H_gt_node, H_node in zip(H_gt,H)])"
   ]
  },
  {
   "cell_type": "code",
   "execution_count": 5,
   "id": "9ce86222-c17c-41e4-ab62-2afdacc1729c",
   "metadata": {},
   "outputs": [],
   "source": [
    "def compute_ground_truth(dataset_name,imgs,T_norm,matching_threshold,matches_th, idx_ref):\n",
    "    matches_dict_gt, _ = FeatureMatching.get_feature_matches(dataset_name,\n",
    "                        imgs,\n",
    "                        T_norm,\n",
    "                        matching_threshold = matching_threshold,\n",
    "                        number_of_matches = 1,\n",
    "                        matches_th = matches_th,\n",
    "                        RANSACmaxIters = 2000,\n",
    "                        save_output = False,\n",
    "                        save_images = False,\n",
    "                        noisy_matching = False,\n",
    "                        verbose = False\n",
    "                       )\n",
    "\n",
    "    M_gt, _, _ = GraphBuilding.build_simple_graph_matrices(dataset_name,\n",
    "                imgs,\n",
    "                matches_dict_gt,\n",
    "                verbose = False,\n",
    "                save_output = False\n",
    "               )\n",
    "\n",
    "    H_gt, stitched_image_gt = SimpleGraphStitching.simple_graph_stitching(dataset_name,\n",
    "                                imgs,\n",
    "                                T_norm,\n",
    "                                M_gt, \n",
    "                                idx_ref = idx_ref,\n",
    "                                verbose = False,\n",
    "                                save_output = False,\n",
    "                                beautify = True,\n",
    "                                warp_shape = [10000,10000])\n",
    "    \n",
    "    return H_gt, stitched_image_gt"
   ]
  },
  {
   "cell_type": "code",
   "execution_count": 6,
   "id": "8abfad27-3b75-43d1-9ade-f3dc7660432e",
   "metadata": {},
   "outputs": [],
   "source": [
    "def visualize_stats(df):\n",
    "    df.sort_values(by=INDEX, ascending=True, inplace=True)\n",
    "    display(df)\n",
    "    \n",
    "    df_v = df.drop(columns=\"Experiments\")\n",
    "    \n",
    "    noises = np.unique([ v[1] for v in df_v.index.values]) #noises\n",
    "    matches = np.unique([ v[0] for v in df_v.index.values]) #matches\n",
    "\n",
    "    Utils.scatter_with_slider(noises, df_v.reorder_levels(['noise_std','number_of_matches']).sort_index(), \"Number of matches\", \"Noise std\")\n",
    "    Utils.scatter_with_slider(matches, df_v, \"Noise std\", \"Number of matches\")\n",
    "    Utils.mesh_plot(df_v)\n"
   ]
  },
  {
   "cell_type": "code",
   "execution_count": 7,
   "id": "c6c085d0-6cd2-4e49-b1be-3e02c667e9ca",
   "metadata": {},
   "outputs": [],
   "source": [
    "def visualize_results(df, results, stitched_img_gt):\n",
    "    \n",
    "    Utils.plot_images(results, stitched_img_gt)\n",
    "    \n",
    "    visualize_stats(df)\n",
    "    "
   ]
  },
  {
   "cell_type": "code",
   "execution_count": 8,
   "id": "b6a1e92d-da95-4b66-89b8-a22c48d79f12",
   "metadata": {},
   "outputs": [],
   "source": [
    "def load_gt_and_stats(dataset_dir,\n",
    "                df_file,\n",
    "                dataset_name,\n",
    "                imgs,\n",
    "                T_norm,\n",
    "                matching_threshold,\n",
    "                matches_th, \n",
    "                idx_ref,\n",
    "                results):\n",
    "    index = INDEX\n",
    "    gt_file = os.path.join(dataset_dir,\"gt.npy\")\n",
    "    gt_img_file = os.path.join(dataset_dir,\"gt_img.jpg\")\n",
    "    \n",
    "    #Compute GT if not existing\n",
    "    if os.path.isfile(gt_file):\n",
    "        H_gt = np.load(gt_file)\n",
    "        stitched_img_gt = cv2.cvtColor(cv2.imread(gt_img_file), cv2.COLOR_BGR2RGB)\n",
    "        df = pd.read_csv(df_file, index_col = index)\n",
    "    else:\n",
    "        H_gt, stitched_img_gt = compute_ground_truth(dataset_name,imgs,T_norm,matching_threshold,matches_th, idx_ref)\n",
    "        cv2.imwrite(gt_img_file, cv2.cvtColor(stitched_img_gt, cv2.COLOR_RGB2BGR))\n",
    "        np.save(gt_file,H_gt)\n",
    "        columns = index + [r[\"name\"] for r in results] + [\"Experiments\"]\n",
    "        df = pd.DataFrame(columns=columns)\n",
    "        df.set_index(index,inplace=True)\n",
    "        \n",
    "    return H_gt, stitched_img_gt, df"
   ]
  },
  {
   "cell_type": "code",
   "execution_count": 9,
   "id": "4287e443-52fa-45b5-bc63-de83299fefd3",
   "metadata": {},
   "outputs": [],
   "source": [
    "def run_benchmark(dataset_name,\n",
    "                  imgs,\n",
    "                  T_norm,\n",
    "                  matching_threshold,\n",
    "                  matches_th, \n",
    "                  idx_ref, \n",
    "                  results, \n",
    "                  number_of_matches, \n",
    "                  noise_std, \n",
    "                  visualize = True):\n",
    "    \n",
    "    benchmark_dir = BENCHMARK_DIR\n",
    "    filename = FILENAME\n",
    "    \n",
    "    dataset_dir = os.path.join(benchmark_dir,f\"{dataset_name}_{idx_ref}_{matching_threshold}_{matches_th}\")\n",
    "  \n",
    "    df_file = os.path.join(dataset_dir, filename)\n",
    "    os.makedirs(dataset_dir, exist_ok = True)\n",
    "    \n",
    "    H_gt, stitched_img_gt, df = load_gt_and_stats(dataset_dir,\n",
    "                df_file,\n",
    "                dataset_name,\n",
    "                imgs,\n",
    "                T_norm,\n",
    "                matching_threshold,\n",
    "                matches_th, \n",
    "                idx_ref,\n",
    "                results)\n",
    "    \n",
    "    index = (number_of_matches, noise_std)\n",
    "    if index in df.index:\n",
    "        exp = df.loc[index,'Experiments'] + 1\n",
    "        new_row = [df.loc[index,r[\"name\"]] * ((exp-1)/exp) + compute_avg_error(H_gt,r[\"H\"])*1/exp for r in results]\n",
    "        new_row.append(exp)\n",
    "    else:\n",
    "        new_row = [compute_avg_error(H_gt,r[\"H\"]) for r in results]\n",
    "        new_row.append(1)\n",
    "    \n",
    "    df.loc[index,:] = new_row\n",
    "    df.to_csv(df_file)\n",
    "    \n",
    "    if visualize:\n",
    "        visualize_results(df, results, stitched_img_gt)\n"
   ]
  },
  {
   "cell_type": "markdown",
   "id": "04a4fc1a-f785-4d85-842b-f824bf5ff153",
   "metadata": {},
   "source": [
    "## Visualize Statistics\n",
    "It is useful to evaluate performances of methods in a dataset without computing a new benchmark."
   ]
  },
  {
   "cell_type": "code",
   "execution_count": 10,
   "id": "8cbb4472-3ff9-4b45-9241-53296963af26",
   "metadata": {},
   "outputs": [],
   "source": [
    "def dropdown_stats_eventhandler(change):\n",
    "    with output:\n",
    "        selected = change.new\n",
    "        file = os.path.join(BENCHMARK_DIR, os.path.join(selected, FILENAME))\n",
    "        df = pd.read_csv(file, index_col = INDEX)\n",
    "\n",
    "        visualize_stats(df)\n",
    "        IPython.display.clear_output(wait=True)"
   ]
  },
  {
   "cell_type": "code",
   "execution_count": 11,
   "id": "607e23ae-fb3d-4b0f-8b80-86132a872641",
   "metadata": {},
   "outputs": [
    {
     "data": {
      "application/vnd.jupyter.widget-view+json": {
       "model_id": "d22764d465ea4fe58aa8a5f7264f3f18",
       "version_major": 2,
       "version_minor": 0
      },
      "text/plain": [
       "Dropdown(description='Benchmarks:', options=('sun_2_0.7_30',), value=None)"
      ]
     },
     "metadata": {},
     "output_type": "display_data"
    },
    {
     "data": {
      "application/vnd.jupyter.widget-view+json": {
       "model_id": "bcd29740e64b43b8b3afe95519f82225",
       "version_major": 2,
       "version_minor": 0
      },
      "text/plain": [
       "Output()"
      ]
     },
     "metadata": {},
     "output_type": "display_data"
    }
   ],
   "source": [
    "directories = os.listdir(BENCHMARK_DIR)\n",
    "output = widgets.Output()\n",
    "dropdown_stats = widgets.Dropdown(options = directories, value=None, description='Benchmarks:')\n",
    "dropdown_stats.observe(dropdown_stats_eventhandler, names='value') \n",
    "display(dropdown_stats, output)\n",
    "IPython.display.clear_output(wait=True)"
   ]
  },
  {
   "cell_type": "code",
   "execution_count": null,
   "id": "2219a197-9f31-42d5-96a4-d11b75ad2a25",
   "metadata": {},
   "outputs": [],
   "source": []
  }
 ],
 "metadata": {
  "kernelspec": {
   "display_name": "Python 3 (ipykernel)",
   "language": "python",
   "name": "python3"
  },
  "language_info": {
   "codemirror_mode": {
    "name": "ipython",
    "version": 3
   },
   "file_extension": ".py",
   "mimetype": "text/x-python",
   "name": "python",
   "nbconvert_exporter": "python",
   "pygments_lexer": "ipython3",
   "version": "3.8.13"
  }
 },
 "nbformat": 4,
 "nbformat_minor": 5
}
