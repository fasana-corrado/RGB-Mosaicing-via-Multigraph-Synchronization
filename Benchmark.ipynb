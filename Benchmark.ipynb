{
 "cells": [
  {
   "cell_type": "code",
   "execution_count": 2,
   "id": "7a08df64-82ce-4554-a5f3-d64e097ee089",
   "metadata": {},
   "outputs": [],
   "source": [
    "import cv2\n",
    "import os\n",
    "import numpy as np\n",
    "import pandas as pd\n",
    "import matplotlib.pyplot as plt\n",
    "from matplotlib.pyplot import figure\n",
    "import ipynb.fs.defs.FeatureMatching as FeatureMatching\n",
    "import ipynb.fs.defs.GraphBuilding as GraphBuilding\n",
    "import ipynb.fs.defs.SimpleGraphStitching as SimpleGraphStitching\n",
    "from IPython.display import display"
   ]
  },
  {
   "cell_type": "code",
   "execution_count": null,
   "id": "79fa6a11-0972-4806-9727-3cd8ddb90700",
   "metadata": {},
   "outputs": [],
   "source": [
    "def compute_error(H_gt, H):\n",
    "    return np.linalg.norm(np.eye(3)-H_gt@np.linalg.inv(H))"
   ]
  },
  {
   "cell_type": "code",
   "execution_count": null,
   "id": "88072b62-fb17-476e-9ffe-fd615d061dbc",
   "metadata": {},
   "outputs": [],
   "source": [
    "def compute_avg_error(H_gt, H):\n",
    "    return np.mean([compute_error(H_gt_node, H_node) for H_gt_node, H_node in zip(H_gt,H)])"
   ]
  },
  {
   "cell_type": "code",
   "execution_count": null,
   "id": "9ce86222-c17c-41e4-ab62-2afdacc1729c",
   "metadata": {},
   "outputs": [],
   "source": [
    "def compute_ground_truth(dataset_name,imgs,T_norm,matching_threshold,matches_th, idx_ref):\n",
    "    matches_dict_gt, _ = FeatureMatching.get_feature_matches(dataset_name,\n",
    "                        imgs,\n",
    "                        T_norm,\n",
    "                        matching_threshold = matching_threshold,\n",
    "                        number_of_matches = 1,\n",
    "                        matches_th = matches_th,\n",
    "                        RANSACmaxIters = 2000,\n",
    "                        save_output = False,\n",
    "                        save_images = False,\n",
    "                        noisy_matching = False,\n",
    "                        verbose = False\n",
    "                       )\n",
    "\n",
    "    M_gt, _, _ = GraphBuilding.build_simple_graph_matrices(dataset_name,\n",
    "                imgs,\n",
    "                matches_dict_gt,\n",
    "                verbose = False,\n",
    "                save_output = False\n",
    "               )\n",
    "\n",
    "    H_gt, stitched_image_gt = SimpleGraphStitching.simple_graph_stitching(dataset_name,\n",
    "                                imgs,\n",
    "                                T_norm,\n",
    "                                M_gt, \n",
    "                                idx_ref = idx_ref,\n",
    "                                verbose = True,\n",
    "                                save_output = False,\n",
    "                                beautify = True,\n",
    "                                warp_shape = [10000,10000])\n",
    "    \n",
    "    return H_gt, stitched_image_gt"
   ]
  },
  {
   "cell_type": "code",
   "execution_count": null,
   "id": "c6c085d0-6cd2-4e49-b1be-3e02c667e9ca",
   "metadata": {},
   "outputs": [],
   "source": [
    "def print_results(df):\n",
    "    display(df)"
   ]
  },
  {
   "cell_type": "code",
   "execution_count": null,
   "id": "4287e443-52fa-45b5-bc63-de83299fefd3",
   "metadata": {},
   "outputs": [],
   "source": [
    "def run_benchmark(dataset_name,imgs,T_norm,matching_threshold,matches_th, idx_ref, results, number_of_matches, noise_std, benchmark_dir):\n",
    "    dataset_dir = os.path.join(benchmark_dir,f\"{dataset_name}_{idx_ref}_{matching_threshold}_{matches_th}\")\n",
    "    gt_file = os.path.join(dataset_dir,\"gt.npy\")\n",
    "    gt_img_file = os.path.join(dataset_dir,\"gt_img.jpg\")\n",
    "    df_file = os.path.join(dataset_dir,\"results.csv\")\n",
    "    os.makedirs(dataset_dir, exist_ok = True)\n",
    "    #Compute GT if not existing\n",
    "    if os.path.isfile(gt_file):\n",
    "        H_gt = np.load(gt_file)\n",
    "        stitched_img_gt = cv2.cvtColor(cv2.imread(gt_img_file), cv2.COLOR_BGR2RGB)\n",
    "        df = pd.read_csv(df_file, index_col = \"Params\")\n",
    "    else:\n",
    "        H_gt, stitched_img_gt = compute_ground_truth(dataset_name,imgs,T_norm,matching_threshold,matches_th, idx_ref)\n",
    "        cv2.imwrite(gt_img_file, cv2.cvtColor(stitched_img_gt, cv2.COLOR_RGB2BGR))\n",
    "        np.save(gt_file,H_gt)     \n",
    "        df = pd.DataFrame(columns=[r[\"name\"] for r in results])\n",
    "    df.loc[f\"m:{number_of_matches} - std:{noise_std}\"] = [compute_avg_error(H_gt,r[\"H\"]) for r in results]\n",
    "    df.to_csv(df_file, index_label = \"Params\")\n",
    "    print_results(df)"
   ]
  }
 ],
 "metadata": {
  "kernelspec": {
   "display_name": "Python 3 (ipykernel)",
   "language": "python",
   "name": "python3"
  },
  "language_info": {
   "codemirror_mode": {
    "name": "ipython",
    "version": 3
   },
   "file_extension": ".py",
   "mimetype": "text/x-python",
   "name": "python",
   "nbconvert_exporter": "python",
   "pygments_lexer": "ipython3",
   "version": "3.9.8"
  }
 },
 "nbformat": 4,
 "nbformat_minor": 5
}
